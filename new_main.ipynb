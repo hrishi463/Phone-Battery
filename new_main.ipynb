{
 "cells": [
  {
   "cell_type": "code",
   "execution_count": 59,
   "metadata": {},
   "outputs": [],
   "source": [
    "import pandas as pd\n",
    "import matplotlib.pyplot as plt\n"
   ]
  },
  {
   "cell_type": "code",
   "execution_count": 60,
   "metadata": {},
   "outputs": [],
   "source": [
    "s21fe = pd.read_csv(\"dataset/samsung_s21fe-data.csv\")\n",
    "pixel6a = pd.read_csv(\"dataset/pixel_6a-data.csv\")\n",
    "a70 = pd.read_csv(\"dataset/samsung_a70-data.csv\")\n",
    "pixel4a = pd.read_csv(\"dataset/pixel_4a-data.csv\")\n"
   ]
  },
  {
   "attachments": {},
   "cell_type": "markdown",
   "metadata": {},
   "source": [
    "converting a feature to date time\n"
   ]
  },
  {
   "cell_type": "code",
   "execution_count": 61,
   "metadata": {},
   "outputs": [],
   "source": [
    "s21fe[\"timestamp\"] = pd.to_datetime(s21fe[\"timestamp\"])\n",
    "pixel4a[\"timestamp\"] = pd.to_datetime(s21fe[\"timestamp\"])\n",
    "pixel6a[\"timestamp\"] = pd.to_datetime(s21fe[\"timestamp\"])\n",
    "a70[\"timestamp\"] = pd.to_datetime(s21fe[\"timestamp\"])\n"
   ]
  },
  {
   "cell_type": "code",
   "execution_count": 62,
   "metadata": {},
   "outputs": [],
   "source": [
    "t1 = s21fe.iloc[0,0]\n",
    "t2 = a70.iloc[0,0]\n",
    "t3 = pixel4a.iloc[0,0]\n",
    "t4 = pixel6a.iloc[0,0]"
   ]
  },
  {
   "cell_type": "code",
   "execution_count": 63,
   "metadata": {},
   "outputs": [],
   "source": [
    "time1 = []\n",
    "for index,row in s21fe.iterrows() :\n",
    "    time1.append(pd.Timedelta(row['timestamp']-t1,unit=\"minutes\"))\n",
    "s21fe[\"time_elasped\"] = time1"
   ]
  },
  {
   "cell_type": "code",
   "execution_count": 64,
   "metadata": {},
   "outputs": [],
   "source": [
    "time2 = []\n",
    "for index,row in a70.iterrows() :\n",
    "    time2.append(pd.Timedelta(row['timestamp']-t2,unit=\"minutes\"))\n",
    "a70[\"time_elasped\"] = time2"
   ]
  },
  {
   "cell_type": "code",
   "execution_count": 65,
   "metadata": {},
   "outputs": [],
   "source": [
    "time3 = []\n",
    "for index,row in pixel4a.iterrows() :\n",
    "    time3.append(pd.Timedelta(row['timestamp']-t3,unit=\"minutes\"))\n",
    "pixel4a[\"time_elasped\"] = time3"
   ]
  },
  {
   "cell_type": "code",
   "execution_count": 66,
   "metadata": {},
   "outputs": [],
   "source": [
    "time4 = []\n",
    "for index,row in pixel6a.iterrows() :\n",
    "    time4.append(pd.Timedelta(row['timestamp']-t4,unit=\"minutes\"))\n",
    "pixel6a[\"time_elasped\"] = time4"
   ]
  },
  {
   "cell_type": "code",
   "execution_count": 67,
   "metadata": {},
   "outputs": [
    {
     "data": {
      "text/html": [
       "<div>\n",
       "<style scoped>\n",
       "    .dataframe tbody tr th:only-of-type {\n",
       "        vertical-align: middle;\n",
       "    }\n",
       "\n",
       "    .dataframe tbody tr th {\n",
       "        vertical-align: top;\n",
       "    }\n",
       "\n",
       "    .dataframe thead th {\n",
       "        text-align: right;\n",
       "    }\n",
       "</style>\n",
       "<table border=\"1\" class=\"dataframe\">\n",
       "  <thead>\n",
       "    <tr style=\"text-align: right;\">\n",
       "      <th></th>\n",
       "      <th>timestamp</th>\n",
       "      <th>voltage(V)</th>\n",
       "      <th>current(mA)</th>\n",
       "      <th>power(W)</th>\n",
       "      <th>battery_percent</th>\n",
       "      <th>battery_temperature(Celsius)</th>\n",
       "      <th>remaining_battery_charge(mAh)</th>\n",
       "      <th>battery_capacity(mAh)</th>\n",
       "      <th>battery_technology</th>\n",
       "      <th>time_elasped</th>\n",
       "    </tr>\n",
       "  </thead>\n",
       "  <tbody>\n",
       "    <tr>\n",
       "      <th>0</th>\n",
       "      <td>2023-04-14 13:05:45.846</td>\n",
       "      <td>3.314</td>\n",
       "      <td>3786</td>\n",
       "      <td>12.547633</td>\n",
       "      <td>1</td>\n",
       "      <td>34.1</td>\n",
       "      <td>170</td>\n",
       "      <td>4410</td>\n",
       "      <td>Li-ion</td>\n",
       "      <td>0 days 00:00:00</td>\n",
       "    </tr>\n",
       "    <tr>\n",
       "      <th>1</th>\n",
       "      <td>2023-04-14 13:05:47.004</td>\n",
       "      <td>3.647</td>\n",
       "      <td>3979</td>\n",
       "      <td>14.512781</td>\n",
       "      <td>1</td>\n",
       "      <td>34.1</td>\n",
       "      <td>172</td>\n",
       "      <td>4410</td>\n",
       "      <td>Li-ion</td>\n",
       "      <td>0 days 00:00:01.158000</td>\n",
       "    </tr>\n",
       "    <tr>\n",
       "      <th>2</th>\n",
       "      <td>2023-04-14 13:05:48.050</td>\n",
       "      <td>3.647</td>\n",
       "      <td>3987</td>\n",
       "      <td>14.543550</td>\n",
       "      <td>1</td>\n",
       "      <td>34.1</td>\n",
       "      <td>174</td>\n",
       "      <td>4410</td>\n",
       "      <td>Li-ion</td>\n",
       "      <td>0 days 00:00:02.204000</td>\n",
       "    </tr>\n",
       "    <tr>\n",
       "      <th>3</th>\n",
       "      <td>2023-04-14 13:05:49.085</td>\n",
       "      <td>3.647</td>\n",
       "      <td>3980</td>\n",
       "      <td>14.517339</td>\n",
       "      <td>1</td>\n",
       "      <td>34.1</td>\n",
       "      <td>174</td>\n",
       "      <td>4410</td>\n",
       "      <td>Li-ion</td>\n",
       "      <td>0 days 00:00:03.239000</td>\n",
       "    </tr>\n",
       "    <tr>\n",
       "      <th>4</th>\n",
       "      <td>2023-04-14 13:05:50.110</td>\n",
       "      <td>3.647</td>\n",
       "      <td>3983</td>\n",
       "      <td>14.527595</td>\n",
       "      <td>1</td>\n",
       "      <td>34.1</td>\n",
       "      <td>176</td>\n",
       "      <td>4410</td>\n",
       "      <td>Li-ion</td>\n",
       "      <td>0 days 00:00:04.264000</td>\n",
       "    </tr>\n",
       "  </tbody>\n",
       "</table>\n",
       "</div>"
      ],
      "text/plain": [
       "                timestamp  voltage(V)  current(mA)   power(W)  \\\n",
       "0 2023-04-14 13:05:45.846       3.314         3786  12.547633   \n",
       "1 2023-04-14 13:05:47.004       3.647         3979  14.512781   \n",
       "2 2023-04-14 13:05:48.050       3.647         3987  14.543550   \n",
       "3 2023-04-14 13:05:49.085       3.647         3980  14.517339   \n",
       "4 2023-04-14 13:05:50.110       3.647         3983  14.527595   \n",
       "\n",
       "   battery_percent  battery_temperature(Celsius)  \\\n",
       "0                1                          34.1   \n",
       "1                1                          34.1   \n",
       "2                1                          34.1   \n",
       "3                1                          34.1   \n",
       "4                1                          34.1   \n",
       "\n",
       "   remaining_battery_charge(mAh)  battery_capacity(mAh) battery_technology  \\\n",
       "0                            170                   4410             Li-ion   \n",
       "1                            172                   4410             Li-ion   \n",
       "2                            174                   4410             Li-ion   \n",
       "3                            174                   4410             Li-ion   \n",
       "4                            176                   4410             Li-ion   \n",
       "\n",
       "            time_elasped  \n",
       "0        0 days 00:00:00  \n",
       "1 0 days 00:00:01.158000  \n",
       "2 0 days 00:00:02.204000  \n",
       "3 0 days 00:00:03.239000  \n",
       "4 0 days 00:00:04.264000  "
      ]
     },
     "execution_count": 67,
     "metadata": {},
     "output_type": "execute_result"
    }
   ],
   "source": [
    "pixel6a.head()"
   ]
  },
  {
   "attachments": {},
   "cell_type": "markdown",
   "metadata": {},
   "source": [
    "Full battery data count\n"
   ]
  },
  {
   "cell_type": "code",
   "execution_count": 68,
   "metadata": {},
   "outputs": [
    {
     "data": {
      "text/plain": [
       "(143, 10)"
      ]
     },
     "execution_count": 68,
     "metadata": {},
     "output_type": "execute_result"
    }
   ],
   "source": [
    "s21fe.loc[s21fe[\"battery_percent\"] == 100].shape\n"
   ]
  },
  {
   "cell_type": "code",
   "execution_count": 69,
   "metadata": {},
   "outputs": [
    {
     "data": {
      "text/plain": [
       "(303, 10)"
      ]
     },
     "execution_count": 69,
     "metadata": {},
     "output_type": "execute_result"
    }
   ],
   "source": [
    "pixel6a.loc[pixel6a[\"battery_percent\"] == 100].shape\n"
   ]
  },
  {
   "cell_type": "code",
   "execution_count": 70,
   "metadata": {},
   "outputs": [
    {
     "data": {
      "text/plain": [
       "(7, 10)"
      ]
     },
     "execution_count": 70,
     "metadata": {},
     "output_type": "execute_result"
    }
   ],
   "source": [
    "a70.loc[a70[\"battery_percent\"] == 100].shape\n"
   ]
  },
  {
   "cell_type": "code",
   "execution_count": 71,
   "metadata": {},
   "outputs": [
    {
     "data": {
      "text/plain": [
       "(97, 10)"
      ]
     },
     "execution_count": 71,
     "metadata": {},
     "output_type": "execute_result"
    }
   ],
   "source": [
    "pixel4a.loc[pixel4a[\"battery_percent\"] == 100].shape\n"
   ]
  },
  {
   "attachments": {},
   "cell_type": "markdown",
   "metadata": {},
   "source": [
    "S21 FE Time vs Current Graph\n"
   ]
  },
  {
   "cell_type": "code",
   "execution_count": 72,
   "metadata": {},
   "outputs": [
    {
     "data": {
      "text/plain": [
       "Text(0, 0.5, 'Current (mA)')"
      ]
     },
     "execution_count": 72,
     "metadata": {},
     "output_type": "execute_result"
    },
    {
     "data": {
      "image/png": "[encoded data removed]",
      "text/plain": [
       "<Figure size 432x288 with 1 Axes>"
      ]
     },
     "metadata": {
      "needs_background": "light"
     },
     "output_type": "display_data"
    }
   ],
   "source": [
    "x = s21fe[\"timestamp\"]\n",
    "y = s21fe[\"current(mA)\"]\n",
    "plt.plot(x, y)\n",
    "plt.xlabel(\"Time Stamp\")\n",
    "plt.ylabel(\"Current (mA)\")\n"
   ]
  },
  {
   "attachments": {},
   "cell_type": "markdown",
   "metadata": {},
   "source": [
    "S21 FE Time vs Voltage Graph\n"
   ]
  },
  {
   "cell_type": "code",
   "execution_count": 73,
   "metadata": {},
   "outputs": [
    {
     "data": {
      "text/plain": [
       "Text(0, 0.5, 'Voltage(V)')"
      ]
     },
     "execution_count": 73,
     "metadata": {},
     "output_type": "execute_result"
    },
    {
     "data": {
      "image/png": "[encoded data removed]",
      "text/plain": [
       "<Figure size 432x288 with 1 Axes>"
      ]
     },
     "metadata": {
      "needs_background": "light"
     },
     "output_type": "display_data"
    }
   ],
   "source": [
    "x = s21fe[\"timestamp\"]\n",
    "y = s21fe[\"voltage(V)\"]\n",
    "plt.plot(x, y)\n",
    "plt.xlabel(\"Time Stamp\")\n",
    "plt.ylabel(\"Voltage(V)\")\n"
   ]
  },
  {
   "attachments": {},
   "cell_type": "markdown",
   "metadata": {},
   "source": [
    "S21 FE Time vs Power Graph\n"
   ]
  },
  {
   "cell_type": "code",
   "execution_count": 74,
   "metadata": {},
   "outputs": [
    {
     "data": {
      "text/plain": [
       "Text(0, 0.5, 'Power(W)')"
      ]
     },
     "execution_count": 74,
     "metadata": {},
     "output_type": "execute_result"
    },
    {
     "data": {
      "image/png": "[encoded data removed]",
      "text/plain": [
       "<Figure size 432x288 with 1 Axes>"
      ]
     },
     "metadata": {
      "needs_background": "light"
     },
     "output_type": "display_data"
    }
   ],
   "source": [
    "x = s21fe[\"timestamp\"]\n",
    "y = s21fe[\"power(W)\"]\n",
    "plt.plot(x, y)\n",
    "plt.xlabel(\"Time Stamp\")\n",
    "plt.ylabel(\"Power(W)\")\n"
   ]
  },
  {
   "attachments": {},
   "cell_type": "markdown",
   "metadata": {},
   "source": [
    "S21 FE Time vs Temperature Graph\n"
   ]
  },
  {
   "cell_type": "code",
   "execution_count": 75,
   "metadata": {},
   "outputs": [
    {
     "data": {
      "text/plain": [
       "Text(0, 0.5, 'temperature(Celsius)')"
      ]
     },
     "execution_count": 75,
     "metadata": {},
     "output_type": "execute_result"
    },
    {
     "data": {
      "image/png": "[encoded data removed]",
      "text/plain": [
       "<Figure size 432x288 with 1 Axes>"
      ]
     },
     "metadata": {
      "needs_background": "light"
     },
     "output_type": "display_data"
    }
   ],
   "source": [
    "x = s21fe[\"timestamp\"]\n",
    "y = s21fe[\"battery_temperature(Celsius)\"]\n",
    "plt.plot(x, y)\n",
    "plt.xlabel(\"Time Stamp\")\n",
    "plt.ylabel(\"temperature(Celsius)\")\n"
   ]
  },
  {
   "attachments": {},
   "cell_type": "markdown",
   "metadata": {},
   "source": [
    "S21 FE Time vs SOC Graph\n"
   ]
  },
  {
   "cell_type": "code",
   "execution_count": 76,
   "metadata": {},
   "outputs": [
    {
     "data": {
      "text/plain": [
       "Text(0, 0.5, 'Battery level')"
      ]
     },
     "execution_count": 76,
     "metadata": {},
     "output_type": "execute_result"
    },
    {
     "data": {
      "image/png": "[encoded data removed]",
      "text/plain": [
       "<Figure size 432x288 with 1 Axes>"
      ]
     },
     "metadata": {
      "needs_background": "light"
     },
     "output_type": "display_data"
    }
   ],
   "source": [
    "x = s21fe[\"timestamp\"]\n",
    "y = s21fe[\"battery_percent\"]\n",
    "plt.plot(x, y)\n",
    "plt.xlabel(\"Time Stamp\")\n",
    "plt.ylabel(\"Battery level\")\n"
   ]
  },
  {
   "attachments": {},
   "cell_type": "markdown",
   "metadata": {},
   "source": [
    "Samsung A70 Time vs Current Graph\n"
   ]
  },
  {
   "cell_type": "code",
   "execution_count": 77,
   "metadata": {},
   "outputs": [
    {
     "data": {
      "text/plain": [
       "Text(0, 0.5, 'Current (mA)')"
      ]
     },
     "execution_count": 77,
     "metadata": {},
     "output_type": "execute_result"
    },
    {
     "data": {
      "image/png": "[encoded data removed]",
      "text/plain": [
       "<Figure size 432x288 with 1 Axes>"
      ]
     },
     "metadata": {
      "needs_background": "light"
     },
     "output_type": "display_data"
    }
   ],
   "source": [
    "x = a70[\"timestamp\"]\n",
    "y = a70[\"current(mA)\"]\n",
    "plt.plot(x, y)\n",
    "plt.xlabel(\"Time Stamp\")\n",
    "plt.ylabel(\"Current (mA)\")\n"
   ]
  },
  {
   "attachments": {},
   "cell_type": "markdown",
   "metadata": {},
   "source": [
    "Pixel 6A Time vs Current Graph\n"
   ]
  },
  {
   "cell_type": "code",
   "execution_count": 78,
   "metadata": {},
   "outputs": [
    {
     "data": {
      "text/plain": [
       "Text(0, 0.5, 'Current (mA)')"
      ]
     },
     "execution_count": 78,
     "metadata": {},
     "output_type": "execute_result"
    },
    {
     "data": {
      "image/png": "[encoded data removed]",
      "text/plain": [
       "<Figure size 432x288 with 1 Axes>"
      ]
     },
     "metadata": {
      "needs_background": "light"
     },
     "output_type": "display_data"
    }
   ],
   "source": [
    "x = pixel6a[\"timestamp\"]\n",
    "y = pixel6a[\"current(mA)\"]\n",
    "plt.plot(x, y)\n",
    "plt.xlabel(\"Time Stamp\")\n",
    "plt.ylabel(\"Current (mA)\")\n"
   ]
  },
  {
   "attachments": {},
   "cell_type": "markdown",
   "metadata": {},
   "source": [
    "Shape of all four phones\n"
   ]
  },
  {
   "cell_type": "code",
   "execution_count": 79,
   "metadata": {},
   "outputs": [
    {
     "data": {
      "text/plain": [
       "(3332, 10)"
      ]
     },
     "execution_count": 79,
     "metadata": {},
     "output_type": "execute_result"
    }
   ],
   "source": [
    "pixel6a.shape\n"
   ]
  },
  {
   "cell_type": "code",
   "execution_count": 80,
   "metadata": {},
   "outputs": [
    {
     "data": {
      "text/plain": [
       "(4686, 10)"
      ]
     },
     "execution_count": 80,
     "metadata": {},
     "output_type": "execute_result"
    }
   ],
   "source": [
    "a70.shape\n"
   ]
  },
  {
   "cell_type": "code",
   "execution_count": 81,
   "metadata": {},
   "outputs": [
    {
     "data": {
      "text/plain": [
       "(4464, 10)"
      ]
     },
     "execution_count": 81,
     "metadata": {},
     "output_type": "execute_result"
    }
   ],
   "source": [
    "s21fe.shape\n"
   ]
  },
  {
   "cell_type": "code",
   "execution_count": 82,
   "metadata": {},
   "outputs": [
    {
     "data": {
      "text/plain": [
       "(2889, 10)"
      ]
     },
     "execution_count": 82,
     "metadata": {},
     "output_type": "execute_result"
    }
   ],
   "source": [
    "pixel4a.shape\n"
   ]
  },
  {
   "attachments": {},
   "cell_type": "markdown",
   "metadata": {},
   "source": [
    "Max temp the phone reached while charging\n"
   ]
  },
  {
   "cell_type": "code",
   "execution_count": 83,
   "metadata": {},
   "outputs": [
    {
     "name": "stdout",
     "output_type": "stream",
     "text": [
      "A70 Max Temp 40.1\n",
      "S21FE Max Temp 41.7\n",
      "Pixel 6A Max Temp 42.7\n",
      "Pixel 4A Max Temp 41.4\n"
     ]
    }
   ],
   "source": [
    "print(\"A70 Max Temp\", a70[\"battery_temperature(Celsius)\"].max())\n",
    "print(\"S21FE Max Temp\", s21fe[\"battery_temperature(Celsius)\"].max())\n",
    "print(\"Pixel 6A Max Temp\", pixel6a[\"battery_temperature(Celsius)\"].max())\n",
    "print(\"Pixel 4A Max Temp\", pixel4a[\"battery_temperature(Celsius)\"].max())\n"
   ]
  },
  {
   "attachments": {},
   "cell_type": "markdown",
   "metadata": {},
   "source": [
    "Correlation\n"
   ]
  },
  {
   "cell_type": "code",
   "execution_count": 84,
   "metadata": {},
   "outputs": [
    {
     "data": {
      "text/html": [
       "<div>\n",
       "<style scoped>\n",
       "    .dataframe tbody tr th:only-of-type {\n",
       "        vertical-align: middle;\n",
       "    }\n",
       "\n",
       "    .dataframe tbody tr th {\n",
       "        vertical-align: top;\n",
       "    }\n",
       "\n",
       "    .dataframe thead th {\n",
       "        text-align: right;\n",
       "    }\n",
       "</style>\n",
       "<table border=\"1\" class=\"dataframe\">\n",
       "  <thead>\n",
       "    <tr style=\"text-align: right;\">\n",
       "      <th></th>\n",
       "      <th>voltage(V)</th>\n",
       "      <th>current(mA)</th>\n",
       "      <th>power(W)</th>\n",
       "      <th>battery_percent</th>\n",
       "      <th>battery_temperature(Celsius)</th>\n",
       "      <th>remaining_battery_charge(mAh)</th>\n",
       "      <th>battery_capacity(mAh)</th>\n",
       "    </tr>\n",
       "  </thead>\n",
       "  <tbody>\n",
       "    <tr>\n",
       "      <th>voltage(V)</th>\n",
       "      <td>1.000000</td>\n",
       "      <td>-0.868765</td>\n",
       "      <td>-0.841552</td>\n",
       "      <td>0.961953</td>\n",
       "      <td>-0.725914</td>\n",
       "      <td>0.964408</td>\n",
       "      <td>NaN</td>\n",
       "    </tr>\n",
       "    <tr>\n",
       "      <th>current(mA)</th>\n",
       "      <td>-0.868765</td>\n",
       "      <td>1.000000</td>\n",
       "      <td>0.998412</td>\n",
       "      <td>-0.943624</td>\n",
       "      <td>0.925130</td>\n",
       "      <td>-0.939750</td>\n",
       "      <td>NaN</td>\n",
       "    </tr>\n",
       "    <tr>\n",
       "      <th>power(W)</th>\n",
       "      <td>-0.841552</td>\n",
       "      <td>0.998412</td>\n",
       "      <td>1.000000</td>\n",
       "      <td>-0.925999</td>\n",
       "      <td>0.938359</td>\n",
       "      <td>-0.921439</td>\n",
       "      <td>NaN</td>\n",
       "    </tr>\n",
       "    <tr>\n",
       "      <th>battery_percent</th>\n",
       "      <td>0.961953</td>\n",
       "      <td>-0.943624</td>\n",
       "      <td>-0.925999</td>\n",
       "      <td>1.000000</td>\n",
       "      <td>-0.817088</td>\n",
       "      <td>0.999553</td>\n",
       "      <td>NaN</td>\n",
       "    </tr>\n",
       "    <tr>\n",
       "      <th>battery_temperature(Celsius)</th>\n",
       "      <td>-0.725914</td>\n",
       "      <td>0.925130</td>\n",
       "      <td>0.938359</td>\n",
       "      <td>-0.817088</td>\n",
       "      <td>1.000000</td>\n",
       "      <td>-0.812513</td>\n",
       "      <td>NaN</td>\n",
       "    </tr>\n",
       "    <tr>\n",
       "      <th>remaining_battery_charge(mAh)</th>\n",
       "      <td>0.964408</td>\n",
       "      <td>-0.939750</td>\n",
       "      <td>-0.921439</td>\n",
       "      <td>0.999553</td>\n",
       "      <td>-0.812513</td>\n",
       "      <td>1.000000</td>\n",
       "      <td>NaN</td>\n",
       "    </tr>\n",
       "    <tr>\n",
       "      <th>battery_capacity(mAh)</th>\n",
       "      <td>NaN</td>\n",
       "      <td>NaN</td>\n",
       "      <td>NaN</td>\n",
       "      <td>NaN</td>\n",
       "      <td>NaN</td>\n",
       "      <td>NaN</td>\n",
       "      <td>NaN</td>\n",
       "    </tr>\n",
       "  </tbody>\n",
       "</table>\n",
       "</div>"
      ],
      "text/plain": [
       "                               voltage(V)  current(mA)  power(W)  \\\n",
       "voltage(V)                       1.000000    -0.868765 -0.841552   \n",
       "current(mA)                     -0.868765     1.000000  0.998412   \n",
       "power(W)                        -0.841552     0.998412  1.000000   \n",
       "battery_percent                  0.961953    -0.943624 -0.925999   \n",
       "battery_temperature(Celsius)    -0.725914     0.925130  0.938359   \n",
       "remaining_battery_charge(mAh)    0.964408    -0.939750 -0.921439   \n",
       "battery_capacity(mAh)                 NaN          NaN       NaN   \n",
       "\n",
       "                               battery_percent  battery_temperature(Celsius)  \\\n",
       "voltage(V)                            0.961953                     -0.725914   \n",
       "current(mA)                          -0.943624                      0.925130   \n",
       "power(W)                             -0.925999                      0.938359   \n",
       "battery_percent                       1.000000                     -0.817088   \n",
       "battery_temperature(Celsius)         -0.817088                      1.000000   \n",
       "remaining_battery_charge(mAh)         0.999553                     -0.812513   \n",
       "battery_capacity(mAh)                      NaN                           NaN   \n",
       "\n",
       "                               remaining_battery_charge(mAh)  \\\n",
       "voltage(V)                                          0.964408   \n",
       "current(mA)                                        -0.939750   \n",
       "power(W)                                           -0.921439   \n",
       "battery_percent                                     0.999553   \n",
       "battery_temperature(Celsius)                       -0.812513   \n",
       "remaining_battery_charge(mAh)                       1.000000   \n",
       "battery_capacity(mAh)                                    NaN   \n",
       "\n",
       "                               battery_capacity(mAh)  \n",
       "voltage(V)                                       NaN  \n",
       "current(mA)                                      NaN  \n",
       "power(W)                                         NaN  \n",
       "battery_percent                                  NaN  \n",
       "battery_temperature(Celsius)                     NaN  \n",
       "remaining_battery_charge(mAh)                    NaN  \n",
       "battery_capacity(mAh)                            NaN  "
      ]
     },
     "execution_count": 84,
     "metadata": {},
     "output_type": "execute_result"
    }
   ],
   "source": [
    "pixel6a.corr()\n"
   ]
  },
  {
   "cell_type": "code",
   "execution_count": 85,
   "metadata": {},
   "outputs": [
    {
     "data": {
      "text/html": [
       "<div>\n",
       "<style scoped>\n",
       "    .dataframe tbody tr th:only-of-type {\n",
       "        vertical-align: middle;\n",
       "    }\n",
       "\n",
       "    .dataframe tbody tr th {\n",
       "        vertical-align: top;\n",
       "    }\n",
       "\n",
       "    .dataframe thead th {\n",
       "        text-align: right;\n",
       "    }\n",
       "</style>\n",
       "<table border=\"1\" class=\"dataframe\">\n",
       "  <thead>\n",
       "    <tr style=\"text-align: right;\">\n",
       "      <th></th>\n",
       "      <th>voltage(V)</th>\n",
       "      <th>current(mA)</th>\n",
       "      <th>power(W)</th>\n",
       "      <th>battery_percent</th>\n",
       "      <th>battery_temperature(Celsius)</th>\n",
       "      <th>remaining_battery_charge(mAh)</th>\n",
       "      <th>battery_capacity(mAh)</th>\n",
       "    </tr>\n",
       "  </thead>\n",
       "  <tbody>\n",
       "    <tr>\n",
       "      <th>voltage(V)</th>\n",
       "      <td>1.000000</td>\n",
       "      <td>0.088772</td>\n",
       "      <td>0.143112</td>\n",
       "      <td>0.796245</td>\n",
       "      <td>0.622724</td>\n",
       "      <td>0.794243</td>\n",
       "      <td>NaN</td>\n",
       "    </tr>\n",
       "    <tr>\n",
       "      <th>current(mA)</th>\n",
       "      <td>0.088772</td>\n",
       "      <td>1.000000</td>\n",
       "      <td>0.998250</td>\n",
       "      <td>-0.492034</td>\n",
       "      <td>0.179417</td>\n",
       "      <td>-0.497655</td>\n",
       "      <td>NaN</td>\n",
       "    </tr>\n",
       "    <tr>\n",
       "      <th>power(W)</th>\n",
       "      <td>0.143112</td>\n",
       "      <td>0.998250</td>\n",
       "      <td>1.000000</td>\n",
       "      <td>-0.442711</td>\n",
       "      <td>0.222917</td>\n",
       "      <td>-0.448636</td>\n",
       "      <td>NaN</td>\n",
       "    </tr>\n",
       "    <tr>\n",
       "      <th>battery_percent</th>\n",
       "      <td>0.796245</td>\n",
       "      <td>-0.492034</td>\n",
       "      <td>-0.442711</td>\n",
       "      <td>1.000000</td>\n",
       "      <td>0.547542</td>\n",
       "      <td>0.999432</td>\n",
       "      <td>NaN</td>\n",
       "    </tr>\n",
       "    <tr>\n",
       "      <th>battery_temperature(Celsius)</th>\n",
       "      <td>0.622724</td>\n",
       "      <td>0.179417</td>\n",
       "      <td>0.222917</td>\n",
       "      <td>0.547542</td>\n",
       "      <td>1.000000</td>\n",
       "      <td>0.532167</td>\n",
       "      <td>NaN</td>\n",
       "    </tr>\n",
       "    <tr>\n",
       "      <th>remaining_battery_charge(mAh)</th>\n",
       "      <td>0.794243</td>\n",
       "      <td>-0.497655</td>\n",
       "      <td>-0.448636</td>\n",
       "      <td>0.999432</td>\n",
       "      <td>0.532167</td>\n",
       "      <td>1.000000</td>\n",
       "      <td>NaN</td>\n",
       "    </tr>\n",
       "    <tr>\n",
       "      <th>battery_capacity(mAh)</th>\n",
       "      <td>NaN</td>\n",
       "      <td>NaN</td>\n",
       "      <td>NaN</td>\n",
       "      <td>NaN</td>\n",
       "      <td>NaN</td>\n",
       "      <td>NaN</td>\n",
       "      <td>NaN</td>\n",
       "    </tr>\n",
       "  </tbody>\n",
       "</table>\n",
       "</div>"
      ],
      "text/plain": [
       "                               voltage(V)  current(mA)  power(W)  \\\n",
       "voltage(V)                       1.000000     0.088772  0.143112   \n",
       "current(mA)                      0.088772     1.000000  0.998250   \n",
       "power(W)                         0.143112     0.998250  1.000000   \n",
       "battery_percent                  0.796245    -0.492034 -0.442711   \n",
       "battery_temperature(Celsius)     0.622724     0.179417  0.222917   \n",
       "remaining_battery_charge(mAh)    0.794243    -0.497655 -0.448636   \n",
       "battery_capacity(mAh)                 NaN          NaN       NaN   \n",
       "\n",
       "                               battery_percent  battery_temperature(Celsius)  \\\n",
       "voltage(V)                            0.796245                      0.622724   \n",
       "current(mA)                          -0.492034                      0.179417   \n",
       "power(W)                             -0.442711                      0.222917   \n",
       "battery_percent                       1.000000                      0.547542   \n",
       "battery_temperature(Celsius)          0.547542                      1.000000   \n",
       "remaining_battery_charge(mAh)         0.999432                      0.532167   \n",
       "battery_capacity(mAh)                      NaN                           NaN   \n",
       "\n",
       "                               remaining_battery_charge(mAh)  \\\n",
       "voltage(V)                                          0.794243   \n",
       "current(mA)                                        -0.497655   \n",
       "power(W)                                           -0.448636   \n",
       "battery_percent                                     0.999432   \n",
       "battery_temperature(Celsius)                        0.532167   \n",
       "remaining_battery_charge(mAh)                       1.000000   \n",
       "battery_capacity(mAh)                                    NaN   \n",
       "\n",
       "                               battery_capacity(mAh)  \n",
       "voltage(V)                                       NaN  \n",
       "current(mA)                                      NaN  \n",
       "power(W)                                         NaN  \n",
       "battery_percent                                  NaN  \n",
       "battery_temperature(Celsius)                     NaN  \n",
       "remaining_battery_charge(mAh)                    NaN  \n",
       "battery_capacity(mAh)                            NaN  "
      ]
     },
     "execution_count": 85,
     "metadata": {},
     "output_type": "execute_result"
    }
   ],
   "source": [
    "a70.corr()\n"
   ]
  },
  {
   "cell_type": "code",
   "execution_count": 86,
   "metadata": {},
   "outputs": [
    {
     "data": {
      "text/html": [
       "<div>\n",
       "<style scoped>\n",
       "    .dataframe tbody tr th:only-of-type {\n",
       "        vertical-align: middle;\n",
       "    }\n",
       "\n",
       "    .dataframe tbody tr th {\n",
       "        vertical-align: top;\n",
       "    }\n",
       "\n",
       "    .dataframe thead th {\n",
       "        text-align: right;\n",
       "    }\n",
       "</style>\n",
       "<table border=\"1\" class=\"dataframe\">\n",
       "  <thead>\n",
       "    <tr style=\"text-align: right;\">\n",
       "      <th></th>\n",
       "      <th>voltage(V)</th>\n",
       "      <th>current(mA)</th>\n",
       "      <th>power(W)</th>\n",
       "      <th>battery_percent</th>\n",
       "      <th>battery_temperature(Celsius)</th>\n",
       "      <th>remaining_battery_charge(mAh)</th>\n",
       "      <th>battery_capacity(mAh)</th>\n",
       "    </tr>\n",
       "  </thead>\n",
       "  <tbody>\n",
       "    <tr>\n",
       "      <th>voltage(V)</th>\n",
       "      <td>1.000000</td>\n",
       "      <td>-0.387511</td>\n",
       "      <td>-0.311557</td>\n",
       "      <td>0.926127</td>\n",
       "      <td>-0.432842</td>\n",
       "      <td>0.926291</td>\n",
       "      <td>NaN</td>\n",
       "    </tr>\n",
       "    <tr>\n",
       "      <th>current(mA)</th>\n",
       "      <td>-0.387511</td>\n",
       "      <td>1.000000</td>\n",
       "      <td>0.995779</td>\n",
       "      <td>-0.635516</td>\n",
       "      <td>0.411069</td>\n",
       "      <td>-0.636134</td>\n",
       "      <td>NaN</td>\n",
       "    </tr>\n",
       "    <tr>\n",
       "      <th>power(W)</th>\n",
       "      <td>-0.311557</td>\n",
       "      <td>0.995779</td>\n",
       "      <td>1.000000</td>\n",
       "      <td>-0.569778</td>\n",
       "      <td>0.407685</td>\n",
       "      <td>-0.570358</td>\n",
       "      <td>NaN</td>\n",
       "    </tr>\n",
       "    <tr>\n",
       "      <th>battery_percent</th>\n",
       "      <td>0.926127</td>\n",
       "      <td>-0.635516</td>\n",
       "      <td>-0.569778</td>\n",
       "      <td>1.000000</td>\n",
       "      <td>-0.467203</td>\n",
       "      <td>0.999941</td>\n",
       "      <td>NaN</td>\n",
       "    </tr>\n",
       "    <tr>\n",
       "      <th>battery_temperature(Celsius)</th>\n",
       "      <td>-0.432842</td>\n",
       "      <td>0.411069</td>\n",
       "      <td>0.407685</td>\n",
       "      <td>-0.467203</td>\n",
       "      <td>1.000000</td>\n",
       "      <td>-0.465893</td>\n",
       "      <td>NaN</td>\n",
       "    </tr>\n",
       "    <tr>\n",
       "      <th>remaining_battery_charge(mAh)</th>\n",
       "      <td>0.926291</td>\n",
       "      <td>-0.636134</td>\n",
       "      <td>-0.570358</td>\n",
       "      <td>0.999941</td>\n",
       "      <td>-0.465893</td>\n",
       "      <td>1.000000</td>\n",
       "      <td>NaN</td>\n",
       "    </tr>\n",
       "    <tr>\n",
       "      <th>battery_capacity(mAh)</th>\n",
       "      <td>NaN</td>\n",
       "      <td>NaN</td>\n",
       "      <td>NaN</td>\n",
       "      <td>NaN</td>\n",
       "      <td>NaN</td>\n",
       "      <td>NaN</td>\n",
       "      <td>NaN</td>\n",
       "    </tr>\n",
       "  </tbody>\n",
       "</table>\n",
       "</div>"
      ],
      "text/plain": [
       "                               voltage(V)  current(mA)  power(W)  \\\n",
       "voltage(V)                       1.000000    -0.387511 -0.311557   \n",
       "current(mA)                     -0.387511     1.000000  0.995779   \n",
       "power(W)                        -0.311557     0.995779  1.000000   \n",
       "battery_percent                  0.926127    -0.635516 -0.569778   \n",
       "battery_temperature(Celsius)    -0.432842     0.411069  0.407685   \n",
       "remaining_battery_charge(mAh)    0.926291    -0.636134 -0.570358   \n",
       "battery_capacity(mAh)                 NaN          NaN       NaN   \n",
       "\n",
       "                               battery_percent  battery_temperature(Celsius)  \\\n",
       "voltage(V)                            0.926127                     -0.432842   \n",
       "current(mA)                          -0.635516                      0.411069   \n",
       "power(W)                             -0.569778                      0.407685   \n",
       "battery_percent                       1.000000                     -0.467203   \n",
       "battery_temperature(Celsius)         -0.467203                      1.000000   \n",
       "remaining_battery_charge(mAh)         0.999941                     -0.465893   \n",
       "battery_capacity(mAh)                      NaN                           NaN   \n",
       "\n",
       "                               remaining_battery_charge(mAh)  \\\n",
       "voltage(V)                                          0.926291   \n",
       "current(mA)                                        -0.636134   \n",
       "power(W)                                           -0.570358   \n",
       "battery_percent                                     0.999941   \n",
       "battery_temperature(Celsius)                       -0.465893   \n",
       "remaining_battery_charge(mAh)                       1.000000   \n",
       "battery_capacity(mAh)                                    NaN   \n",
       "\n",
       "                               battery_capacity(mAh)  \n",
       "voltage(V)                                       NaN  \n",
       "current(mA)                                      NaN  \n",
       "power(W)                                         NaN  \n",
       "battery_percent                                  NaN  \n",
       "battery_temperature(Celsius)                     NaN  \n",
       "remaining_battery_charge(mAh)                    NaN  \n",
       "battery_capacity(mAh)                            NaN  "
      ]
     },
     "execution_count": 86,
     "metadata": {},
     "output_type": "execute_result"
    }
   ],
   "source": [
    "s21fe.corr()\n"
   ]
  },
  {
   "cell_type": "code",
   "execution_count": 87,
   "metadata": {},
   "outputs": [
    {
     "data": {
      "text/html": [
       "<div>\n",
       "<style scoped>\n",
       "    .dataframe tbody tr th:only-of-type {\n",
       "        vertical-align: middle;\n",
       "    }\n",
       "\n",
       "    .dataframe tbody tr th {\n",
       "        vertical-align: top;\n",
       "    }\n",
       "\n",
       "    .dataframe thead th {\n",
       "        text-align: right;\n",
       "    }\n",
       "</style>\n",
       "<table border=\"1\" class=\"dataframe\">\n",
       "  <thead>\n",
       "    <tr style=\"text-align: right;\">\n",
       "      <th></th>\n",
       "      <th>voltage(V)</th>\n",
       "      <th>current(mA)</th>\n",
       "      <th>power(W)</th>\n",
       "      <th>battery_percent</th>\n",
       "      <th>battery_temperature(Celsius)</th>\n",
       "      <th>remaining_battery_charge(mAh)</th>\n",
       "      <th>battery_capacity(mAh)</th>\n",
       "    </tr>\n",
       "  </thead>\n",
       "  <tbody>\n",
       "    <tr>\n",
       "      <th>voltage(V)</th>\n",
       "      <td>1.000000</td>\n",
       "      <td>-0.734010</td>\n",
       "      <td>-0.681379</td>\n",
       "      <td>0.954687</td>\n",
       "      <td>-0.485023</td>\n",
       "      <td>0.959233</td>\n",
       "      <td>NaN</td>\n",
       "    </tr>\n",
       "    <tr>\n",
       "      <th>current(mA)</th>\n",
       "      <td>-0.734010</td>\n",
       "      <td>1.000000</td>\n",
       "      <td>0.996327</td>\n",
       "      <td>-0.849624</td>\n",
       "      <td>0.640539</td>\n",
       "      <td>-0.852406</td>\n",
       "      <td>NaN</td>\n",
       "    </tr>\n",
       "    <tr>\n",
       "      <th>power(W)</th>\n",
       "      <td>-0.681379</td>\n",
       "      <td>0.996327</td>\n",
       "      <td>1.000000</td>\n",
       "      <td>-0.803863</td>\n",
       "      <td>0.668082</td>\n",
       "      <td>-0.807449</td>\n",
       "      <td>NaN</td>\n",
       "    </tr>\n",
       "    <tr>\n",
       "      <th>battery_percent</th>\n",
       "      <td>0.954687</td>\n",
       "      <td>-0.849624</td>\n",
       "      <td>-0.803863</td>\n",
       "      <td>1.000000</td>\n",
       "      <td>-0.447011</td>\n",
       "      <td>0.999495</td>\n",
       "      <td>NaN</td>\n",
       "    </tr>\n",
       "    <tr>\n",
       "      <th>battery_temperature(Celsius)</th>\n",
       "      <td>-0.485023</td>\n",
       "      <td>0.640539</td>\n",
       "      <td>0.668082</td>\n",
       "      <td>-0.447011</td>\n",
       "      <td>1.000000</td>\n",
       "      <td>-0.467295</td>\n",
       "      <td>NaN</td>\n",
       "    </tr>\n",
       "    <tr>\n",
       "      <th>remaining_battery_charge(mAh)</th>\n",
       "      <td>0.959233</td>\n",
       "      <td>-0.852406</td>\n",
       "      <td>-0.807449</td>\n",
       "      <td>0.999495</td>\n",
       "      <td>-0.467295</td>\n",
       "      <td>1.000000</td>\n",
       "      <td>NaN</td>\n",
       "    </tr>\n",
       "    <tr>\n",
       "      <th>battery_capacity(mAh)</th>\n",
       "      <td>NaN</td>\n",
       "      <td>NaN</td>\n",
       "      <td>NaN</td>\n",
       "      <td>NaN</td>\n",
       "      <td>NaN</td>\n",
       "      <td>NaN</td>\n",
       "      <td>NaN</td>\n",
       "    </tr>\n",
       "  </tbody>\n",
       "</table>\n",
       "</div>"
      ],
      "text/plain": [
       "                               voltage(V)  current(mA)  power(W)  \\\n",
       "voltage(V)                       1.000000    -0.734010 -0.681379   \n",
       "current(mA)                     -0.734010     1.000000  0.996327   \n",
       "power(W)                        -0.681379     0.996327  1.000000   \n",
       "battery_percent                  0.954687    -0.849624 -0.803863   \n",
       "battery_temperature(Celsius)    -0.485023     0.640539  0.668082   \n",
       "remaining_battery_charge(mAh)    0.959233    -0.852406 -0.807449   \n",
       "battery_capacity(mAh)                 NaN          NaN       NaN   \n",
       "\n",
       "                               battery_percent  battery_temperature(Celsius)  \\\n",
       "voltage(V)                            0.954687                     -0.485023   \n",
       "current(mA)                          -0.849624                      0.640539   \n",
       "power(W)                             -0.803863                      0.668082   \n",
       "battery_percent                       1.000000                     -0.447011   \n",
       "battery_temperature(Celsius)         -0.447011                      1.000000   \n",
       "remaining_battery_charge(mAh)         0.999495                     -0.467295   \n",
       "battery_capacity(mAh)                      NaN                           NaN   \n",
       "\n",
       "                               remaining_battery_charge(mAh)  \\\n",
       "voltage(V)                                          0.959233   \n",
       "current(mA)                                        -0.852406   \n",
       "power(W)                                           -0.807449   \n",
       "battery_percent                                     0.999495   \n",
       "battery_temperature(Celsius)                       -0.467295   \n",
       "remaining_battery_charge(mAh)                       1.000000   \n",
       "battery_capacity(mAh)                                    NaN   \n",
       "\n",
       "                               battery_capacity(mAh)  \n",
       "voltage(V)                                       NaN  \n",
       "current(mA)                                      NaN  \n",
       "power(W)                                         NaN  \n",
       "battery_percent                                  NaN  \n",
       "battery_temperature(Celsius)                     NaN  \n",
       "remaining_battery_charge(mAh)                    NaN  \n",
       "battery_capacity(mAh)                            NaN  "
      ]
     },
     "execution_count": 87,
     "metadata": {},
     "output_type": "execute_result"
    }
   ],
   "source": [
    "pixel4a.corr()\n"
   ]
  }
 ],
 "metadata": {
  "kernelspec": {
   "display_name": "Python 3",
   "language": "python",
   "name": "python3"
  },
  "language_info": {
   "codemirror_mode": {
    "name": "ipython",
    "version": 3
   },
   "file_extension": ".py",
   "mimetype": "text/x-python",
   "name": "python",
   "nbconvert_exporter": "python",
   "pygments_lexer": "ipython3",
   "version": "3.10.6"
  },
  "orig_nbformat": 4
 },
 "nbformat": 4,
 "nbformat_minor": 2
}
