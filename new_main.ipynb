{
 "cells": [
  {
   "cell_type": "code",
   "execution_count": 121,
   "metadata": {},
   "outputs": [],
   "source": [
    "import pandas as pd\n",
    "import matplotlib.pyplot as plt\n"
   ]
  },
  {
   "cell_type": "code",
   "execution_count": 122,
   "metadata": {},
   "outputs": [],
   "source": [
    "s21fe = pd.read_csv(\"dataset/samsung_s21fe-data.csv\")\n",
    "pixel6a = pd.read_csv(\"dataset/pixel_6a-data.csv\")\n",
    "a70 = pd.read_csv(\"dataset/samsung_a70-data.csv\")\n",
    "pixel4a = pd.read_csv(\"dataset/pixel_4a-data.csv\")\n"
   ]
  },
  {
   "attachments": {},
   "cell_type": "markdown",
   "metadata": {},
   "source": [
    "converting a feature to date time\n"
   ]
  },
  {
   "cell_type": "code",
   "execution_count": 123,
   "metadata": {},
   "outputs": [],
   "source": [
    "s21fe[\"timestamp\"] = pd.to_datetime(s21fe[\"timestamp\"])\n",
    "pixel4a[\"timestamp\"] = pd.to_datetime(pixel4a[\"timestamp\"])\n",
    "pixel6a[\"timestamp\"] = pd.to_datetime(pixel6a[\"timestamp\"])\n",
    "a70[\"timestamp\"] = pd.to_datetime(a70[\"timestamp\"])\n"
   ]
  },
  {
   "cell_type": "code",
   "execution_count": 124,
   "metadata": {},
   "outputs": [],
   "source": [
    "t1 = s21fe.iloc[0,0]\n",
    "t2 = a70.iloc[0,0]\n",
    "t3 = pixel4a.iloc[0,0]\n",
    "t4 = pixel6a.iloc[0,0]"
   ]
  },
  {
   "cell_type": "code",
   "execution_count": 125,
   "metadata": {},
   "outputs": [],
   "source": [
    "time1 = []\n",
    "for index,row in s21fe.iterrows() :\n",
    "    time1.append(pd.Timedelta(row['timestamp']-t1,unit=\"minutes\"))\n",
    "s21fe[\"time_elasped\"] = time1"
   ]
  },
  {
   "cell_type": "code",
   "execution_count": 126,
   "metadata": {},
   "outputs": [],
   "source": [
    "time2 = []\n",
    "for index,row in a70.iterrows() :\n",
    "    time2.append(pd.Timedelta(row['timestamp']-t2,unit=\"minutes\"))\n",
    "a70[\"time_elasped\"] = time2"
   ]
  },
  {
   "cell_type": "code",
   "execution_count": 127,
   "metadata": {},
   "outputs": [],
   "source": [
    "time3 = []\n",
    "for index,row in pixel4a.iterrows() :\n",
    "    time3.append(pd.Timedelta(row['timestamp']-t3,unit=\"minutes\"))\n",
    "pixel4a[\"time_elasped\"] = time3"
   ]
  },
  {
   "cell_type": "code",
   "execution_count": 128,
   "metadata": {},
   "outputs": [],
   "source": [
    "time4 = []\n",
    "for index,row in pixel6a.iterrows() :\n",
    "    time4.append(pd.Timedelta(row['timestamp']-t4,unit=\"minutes\"))\n",
    "pixel6a[\"time_elasped\"] = time4"
   ]
  },
  {
   "cell_type": "code",
   "execution_count": 129,
   "metadata": {},
   "outputs": [
    {
     "data": {
      "text/html": [
       "<div>\n",
       "<style scoped>\n",
       "    .dataframe tbody tr th:only-of-type {\n",
       "        vertical-align: middle;\n",
       "    }\n",
       "\n",
       "    .dataframe tbody tr th {\n",
       "        vertical-align: top;\n",
       "    }\n",
       "\n",
       "    .dataframe thead th {\n",
       "        text-align: right;\n",
       "    }\n",
       "</style>\n",
       "<table border=\"1\" class=\"dataframe\">\n",
       "  <thead>\n",
       "    <tr style=\"text-align: right;\">\n",
       "      <th></th>\n",
       "      <th>timestamp</th>\n",
       "      <th>voltage(V)</th>\n",
       "      <th>current(mA)</th>\n",
       "      <th>power(W)</th>\n",
       "      <th>battery_percent</th>\n",
       "      <th>battery_temperature(Celsius)</th>\n",
       "      <th>remaining_battery_charge(mAh)</th>\n",
       "      <th>battery_capacity(mAh)</th>\n",
       "      <th>battery_technology</th>\n",
       "      <th>time_elasped</th>\n",
       "    </tr>\n",
       "  </thead>\n",
       "  <tbody>\n",
       "    <tr>\n",
       "      <th>3327</th>\n",
       "      <td>2023-04-14 14:04:26.551</td>\n",
       "      <td>4.436</td>\n",
       "      <td>373</td>\n",
       "      <td>1.657955</td>\n",
       "      <td>100</td>\n",
       "      <td>33.1</td>\n",
       "      <td>4422</td>\n",
       "      <td>4410</td>\n",
       "      <td>Li-ion</td>\n",
       "      <td>0 days 00:58:40.705000</td>\n",
       "    </tr>\n",
       "    <tr>\n",
       "      <th>3328</th>\n",
       "      <td>2023-04-14 14:04:27.599</td>\n",
       "      <td>4.436</td>\n",
       "      <td>370</td>\n",
       "      <td>1.641320</td>\n",
       "      <td>100</td>\n",
       "      <td>33.1</td>\n",
       "      <td>4422</td>\n",
       "      <td>4410</td>\n",
       "      <td>Li-ion</td>\n",
       "      <td>0 days 00:58:41.753000</td>\n",
       "    </tr>\n",
       "    <tr>\n",
       "      <th>3329</th>\n",
       "      <td>2023-04-14 14:04:28.643</td>\n",
       "      <td>4.436</td>\n",
       "      <td>374</td>\n",
       "      <td>1.659339</td>\n",
       "      <td>100</td>\n",
       "      <td>33.1</td>\n",
       "      <td>4422</td>\n",
       "      <td>4410</td>\n",
       "      <td>Li-ion</td>\n",
       "      <td>0 days 00:58:42.797000</td>\n",
       "    </tr>\n",
       "    <tr>\n",
       "      <th>3330</th>\n",
       "      <td>2023-04-14 14:04:29.687</td>\n",
       "      <td>4.436</td>\n",
       "      <td>388</td>\n",
       "      <td>1.724495</td>\n",
       "      <td>100</td>\n",
       "      <td>33.1</td>\n",
       "      <td>4424</td>\n",
       "      <td>4410</td>\n",
       "      <td>Li-ion</td>\n",
       "      <td>0 days 00:58:43.841000</td>\n",
       "    </tr>\n",
       "    <tr>\n",
       "      <th>3331</th>\n",
       "      <td>2023-04-14 14:04:30.746</td>\n",
       "      <td>4.436</td>\n",
       "      <td>377</td>\n",
       "      <td>1.673202</td>\n",
       "      <td>100</td>\n",
       "      <td>33.1</td>\n",
       "      <td>4424</td>\n",
       "      <td>4410</td>\n",
       "      <td>Li-ion</td>\n",
       "      <td>0 days 00:58:44.900000</td>\n",
       "    </tr>\n",
       "  </tbody>\n",
       "</table>\n",
       "</div>"
      ],
      "text/plain": [
       "                   timestamp  voltage(V)  current(mA)  power(W)  \\\n",
       "3327 2023-04-14 14:04:26.551       4.436          373  1.657955   \n",
       "3328 2023-04-14 14:04:27.599       4.436          370  1.641320   \n",
       "3329 2023-04-14 14:04:28.643       4.436          374  1.659339   \n",
       "3330 2023-04-14 14:04:29.687       4.436          388  1.724495   \n",
       "3331 2023-04-14 14:04:30.746       4.436          377  1.673202   \n",
       "\n",
       "      battery_percent  battery_temperature(Celsius)  \\\n",
       "3327              100                          33.1   \n",
       "3328              100                          33.1   \n",
       "3329              100                          33.1   \n",
       "3330              100                          33.1   \n",
       "3331              100                          33.1   \n",
       "\n",
       "      remaining_battery_charge(mAh)  battery_capacity(mAh) battery_technology  \\\n",
       "3327                           4422                   4410             Li-ion   \n",
       "3328                           4422                   4410             Li-ion   \n",
       "3329                           4422                   4410             Li-ion   \n",
       "3330                           4424                   4410             Li-ion   \n",
       "3331                           4424                   4410             Li-ion   \n",
       "\n",
       "               time_elasped  \n",
       "3327 0 days 00:58:40.705000  \n",
       "3328 0 days 00:58:41.753000  \n",
       "3329 0 days 00:58:42.797000  \n",
       "3330 0 days 00:58:43.841000  \n",
       "3331 0 days 00:58:44.900000  "
      ]
     },
     "execution_count": 129,
     "metadata": {},
     "output_type": "execute_result"
    }
   ],
   "source": [
    "pixel6a.tail()"
   ]
  },
  {
   "cell_type": "code",
   "execution_count": 130,
   "metadata": {},
   "outputs": [
    {
     "data": {
      "text/html": [
       "<div>\n",
       "<style scoped>\n",
       "    .dataframe tbody tr th:only-of-type {\n",
       "        vertical-align: middle;\n",
       "    }\n",
       "\n",
       "    .dataframe tbody tr th {\n",
       "        vertical-align: top;\n",
       "    }\n",
       "\n",
       "    .dataframe thead th {\n",
       "        text-align: right;\n",
       "    }\n",
       "</style>\n",
       "<table border=\"1\" class=\"dataframe\">\n",
       "  <thead>\n",
       "    <tr style=\"text-align: right;\">\n",
       "      <th></th>\n",
       "      <th>timestamp</th>\n",
       "      <th>voltage(V)</th>\n",
       "      <th>current(mA)</th>\n",
       "      <th>power(W)</th>\n",
       "      <th>battery_percent</th>\n",
       "      <th>battery_temperature(Celsius)</th>\n",
       "      <th>remaining_battery_charge(mAh)</th>\n",
       "      <th>battery_capacity(mAh)</th>\n",
       "      <th>battery_technology</th>\n",
       "      <th>time_elasped</th>\n",
       "    </tr>\n",
       "  </thead>\n",
       "  <tbody>\n",
       "    <tr>\n",
       "      <th>4459</th>\n",
       "      <td>2023-04-14 14:30:25.580</td>\n",
       "      <td>4.4</td>\n",
       "      <td>673</td>\n",
       "      <td>2.9612</td>\n",
       "      <td>100</td>\n",
       "      <td>37.7</td>\n",
       "      <td>4132.0</td>\n",
       "      <td>4370</td>\n",
       "      <td>Li-ion</td>\n",
       "      <td>0 days 01:24:39.734000</td>\n",
       "    </tr>\n",
       "    <tr>\n",
       "      <th>4460</th>\n",
       "      <td>2023-04-14 14:30:26.603</td>\n",
       "      <td>4.4</td>\n",
       "      <td>659</td>\n",
       "      <td>2.8996</td>\n",
       "      <td>100</td>\n",
       "      <td>37.7</td>\n",
       "      <td>4132.0</td>\n",
       "      <td>4370</td>\n",
       "      <td>Li-ion</td>\n",
       "      <td>0 days 01:24:40.757000</td>\n",
       "    </tr>\n",
       "    <tr>\n",
       "      <th>4461</th>\n",
       "      <td>2023-04-14 14:30:27.628</td>\n",
       "      <td>4.4</td>\n",
       "      <td>665</td>\n",
       "      <td>2.9260</td>\n",
       "      <td>100</td>\n",
       "      <td>37.7</td>\n",
       "      <td>4132.0</td>\n",
       "      <td>4370</td>\n",
       "      <td>Li-ion</td>\n",
       "      <td>0 days 01:24:41.782000</td>\n",
       "    </tr>\n",
       "    <tr>\n",
       "      <th>4462</th>\n",
       "      <td>2023-04-14 14:30:28.663</td>\n",
       "      <td>4.4</td>\n",
       "      <td>664</td>\n",
       "      <td>2.9216</td>\n",
       "      <td>100</td>\n",
       "      <td>37.7</td>\n",
       "      <td>4132.0</td>\n",
       "      <td>4370</td>\n",
       "      <td>Li-ion</td>\n",
       "      <td>0 days 01:24:42.817000</td>\n",
       "    </tr>\n",
       "    <tr>\n",
       "      <th>4463</th>\n",
       "      <td>2023-04-14 14:30:29.695</td>\n",
       "      <td>4.4</td>\n",
       "      <td>661</td>\n",
       "      <td>2.9084</td>\n",
       "      <td>100</td>\n",
       "      <td>37.7</td>\n",
       "      <td>4132.0</td>\n",
       "      <td>4370</td>\n",
       "      <td>Li-ion</td>\n",
       "      <td>0 days 01:24:43.849000</td>\n",
       "    </tr>\n",
       "  </tbody>\n",
       "</table>\n",
       "</div>"
      ],
      "text/plain": [
       "                   timestamp  voltage(V)  current(mA)  power(W)  \\\n",
       "4459 2023-04-14 14:30:25.580         4.4          673    2.9612   \n",
       "4460 2023-04-14 14:30:26.603         4.4          659    2.8996   \n",
       "4461 2023-04-14 14:30:27.628         4.4          665    2.9260   \n",
       "4462 2023-04-14 14:30:28.663         4.4          664    2.9216   \n",
       "4463 2023-04-14 14:30:29.695         4.4          661    2.9084   \n",
       "\n",
       "      battery_percent  battery_temperature(Celsius)  \\\n",
       "4459              100                          37.7   \n",
       "4460              100                          37.7   \n",
       "4461              100                          37.7   \n",
       "4462              100                          37.7   \n",
       "4463              100                          37.7   \n",
       "\n",
       "      remaining_battery_charge(mAh)  battery_capacity(mAh) battery_technology  \\\n",
       "4459                         4132.0                   4370             Li-ion   \n",
       "4460                         4132.0                   4370             Li-ion   \n",
       "4461                         4132.0                   4370             Li-ion   \n",
       "4462                         4132.0                   4370             Li-ion   \n",
       "4463                         4132.0                   4370             Li-ion   \n",
       "\n",
       "               time_elasped  \n",
       "4459 0 days 01:24:39.734000  \n",
       "4460 0 days 01:24:40.757000  \n",
       "4461 0 days 01:24:41.782000  \n",
       "4462 0 days 01:24:42.817000  \n",
       "4463 0 days 01:24:43.849000  "
      ]
     },
     "execution_count": 130,
     "metadata": {},
     "output_type": "execute_result"
    }
   ],
   "source": [
    "s21fe.tail()"
   ]
  },
  {
   "attachments": {},
   "cell_type": "markdown",
   "metadata": {},
   "source": [
    "Full battery data count\n"
   ]
  },
  {
   "cell_type": "code",
   "execution_count": 131,
   "metadata": {},
   "outputs": [
    {
     "data": {
      "text/plain": [
       "(143, 10)"
      ]
     },
     "execution_count": 131,
     "metadata": {},
     "output_type": "execute_result"
    }
   ],
   "source": [
    "s21fe.loc[s21fe[\"battery_percent\"] == 100].shape\n"
   ]
  },
  {
   "cell_type": "code",
   "execution_count": 132,
   "metadata": {},
   "outputs": [
    {
     "data": {
      "text/plain": [
       "(303, 10)"
      ]
     },
     "execution_count": 132,
     "metadata": {},
     "output_type": "execute_result"
    }
   ],
   "source": [
    "pixel6a.loc[pixel6a[\"battery_percent\"] == 100].shape\n"
   ]
  },
  {
   "cell_type": "code",
   "execution_count": 133,
   "metadata": {},
   "outputs": [
    {
     "data": {
      "text/plain": [
       "(7, 10)"
      ]
     },
     "execution_count": 133,
     "metadata": {},
     "output_type": "execute_result"
    }
   ],
   "source": [
    "a70.loc[a70[\"battery_percent\"] == 100].shape\n"
   ]
  },
  {
   "cell_type": "code",
   "execution_count": 134,
   "metadata": {},
   "outputs": [
    {
     "data": {
      "text/plain": [
       "(97, 10)"
      ]
     },
     "execution_count": 134,
     "metadata": {},
     "output_type": "execute_result"
    }
   ],
   "source": [
    "pixel4a.loc[pixel4a[\"battery_percent\"] == 100].shape\n"
   ]
  },
  {
   "attachments": {},
   "cell_type": "markdown",
   "metadata": {},
   "source": [
    "S21 FE Time vs Current Graph\n"
   ]
  },
  {
   "cell_type": "code",
   "execution_count": 135,
   "metadata": {},
   "outputs": [
    {
     "data": {
      "text/plain": [
       "Text(0, 0.5, 'Current (mA)')"
      ]
     },
     "execution_count": 135,
     "metadata": {},
     "output_type": "execute_result"
    },
    {
     "data": {
      "image/png": "[encoded data removed]",
      "text/plain": [
       "<Figure size 432x288 with 1 Axes>"
      ]
     },
     "metadata": {
      "needs_background": "light"
     },
     "output_type": "display_data"
    }
   ],
   "source": [
    "x = s21fe[\"time_elasped\"]\n",
    "y = s21fe[\"current(mA)\"]\n",
    "plt.plot(x, y)\n",
    "plt.xlabel(\"Time\")\n",
    "plt.ylabel(\"Current (mA)\")\n"
   ]
  },
  {
   "attachments": {},
   "cell_type": "markdown",
   "metadata": {},
   "source": [
    "S21 FE Time vs Voltage Graph\n"
   ]
  },
  {
   "cell_type": "code",
   "execution_count": 136,
   "metadata": {},
   "outputs": [
    {
     "data": {
      "text/plain": [
       "Text(0, 0.5, 'Voltage(V)')"
      ]
     },
     "execution_count": 136,
     "metadata": {},
     "output_type": "execute_result"
    },
    {
     "data": {
      "image/png": "[encoded data removed]",
      "text/plain": [
       "<Figure size 432x288 with 1 Axes>"
      ]
     },
     "metadata": {
      "needs_background": "light"
     },
     "output_type": "display_data"
    }
   ],
   "source": [
    "x = s21fe[\"time_elasped\"]\n",
    "y = s21fe[\"voltage(V)\"]\n",
    "plt.plot(x, y)\n",
    "plt.xlabel(\"Time\")\n",
    "plt.ylabel(\"Voltage(V)\")\n"
   ]
  },
  {
   "attachments": {},
   "cell_type": "markdown",
   "metadata": {},
   "source": [
    "S21 FE Time vs Power Graph\n"
   ]
  },
  {
   "cell_type": "code",
   "execution_count": 137,
   "metadata": {},
   "outputs": [
    {
     "data": {
      "text/plain": [
       "Text(0, 0.5, 'Power(W)')"
      ]
     },
     "execution_count": 137,
     "metadata": {},
     "output_type": "execute_result"
    },
    {
     "data": {
      "image/png": "[encoded data removed]",
      "text/plain": [
       "<Figure size 432x288 with 1 Axes>"
      ]
     },
     "metadata": {
      "needs_background": "light"
     },
     "output_type": "display_data"
    }
   ],
   "source": [
    "x = s21fe[\"time_elasped\"]\n",
    "y = s21fe[\"power(W)\"]\n",
    "plt.plot(x, y)\n",
    "plt.xlabel(\"Time\")\n",
    "plt.ylabel(\"Power(W)\")\n"
   ]
  },
  {
   "attachments": {},
   "cell_type": "markdown",
   "metadata": {},
   "source": [
    "S21 FE Time vs Temperature Graph\n"
   ]
  },
  {
   "cell_type": "code",
   "execution_count": 138,
   "metadata": {},
   "outputs": [
    {
     "data": {
      "text/plain": [
       "Text(0, 0.5, 'temperature(Celsius)')"
      ]
     },
     "execution_count": 138,
     "metadata": {},
     "output_type": "execute_result"
    },
    {
     "data": {
      "image/png": "[encoded data removed]",
      "text/plain": [
       "<Figure size 432x288 with 1 Axes>"
      ]
     },
     "metadata": {
      "needs_background": "light"
     },
     "output_type": "display_data"
    }
   ],
   "source": [
    "x = s21fe[\"time_elasped\"]\n",
    "y = s21fe[\"battery_temperature(Celsius)\"]\n",
    "plt.plot(x, y)\n",
    "plt.xlabel(\"Time\")\n",
    "plt.ylabel(\"temperature(Celsius)\")\n"
   ]
  },
  {
   "attachments": {},
   "cell_type": "markdown",
   "metadata": {},
   "source": [
    "S21 FE Time vs SOC Graph\n"
   ]
  },
  {
   "cell_type": "code",
   "execution_count": 139,
   "metadata": {},
   "outputs": [
    {
     "data": {
      "text/plain": [
       "Text(0, 0.5, 'Battery level')"
      ]
     },
     "execution_count": 139,
     "metadata": {},
     "output_type": "execute_result"
    },
    {
     "data": {
      "image/png": "[encoded data removed]",
      "text/plain": [
       "<Figure size 432x288 with 1 Axes>"
      ]
     },
     "metadata": {
      "needs_background": "light"
     },
     "output_type": "display_data"
    }
   ],
   "source": [
    "x = s21fe[\"time_elasped\"]\n",
    "y = s21fe[\"battery_percent\"]\n",
    "plt.plot(x, y)\n",
    "plt.xlabel(\"Time Stamp\")\n",
    "plt.ylabel(\"Battery level\")\n"
   ]
  },
  {
   "attachments": {},
   "cell_type": "markdown",
   "metadata": {},
   "source": [
    "Samsung A70 Time vs Current Graph\n"
   ]
  },
  {
   "cell_type": "code",
   "execution_count": 140,
   "metadata": {},
   "outputs": [
    {
     "data": {
      "text/plain": [
       "Text(0, 0.5, 'Current (mA)')"
      ]
     },
     "execution_count": 140,
     "metadata": {},
     "output_type": "execute_result"
    },
    {
     "data": {
      "image/png": "[encoded data removed]",
      "text/plain": [
       "<Figure size 432x288 with 1 Axes>"
      ]
     },
     "metadata": {
      "needs_background": "light"
     },
     "output_type": "display_data"
    }
   ],
   "source": [
    "x = a70[\"time_elasped\"]\n",
    "y = a70[\"current(mA)\"]\n",
    "plt.plot(x, y)\n",
    "plt.xlabel(\"Time\")\n",
    "plt.ylabel(\"Current (mA)\")\n"
   ]
  },
  {
   "attachments": {},
   "cell_type": "markdown",
   "metadata": {},
   "source": [
    "Pixel 6A Time vs Current Graph\n"
   ]
  },
  {
   "cell_type": "code",
   "execution_count": 141,
   "metadata": {},
   "outputs": [
    {
     "data": {
      "text/plain": [
       "Text(0, 0.5, 'Current (mA)')"
      ]
     },
     "execution_count": 141,
     "metadata": {},
     "output_type": "execute_result"
    },
    {
     "data": {
      "image/png": "[encoded data removed]",
      "text/plain": [
       "<Figure size 432x288 with 1 Axes>"
      ]
     },
     "metadata": {
      "needs_background": "light"
     },
     "output_type": "display_data"
    }
   ],
   "source": [
    "x = pixel6a[\"time_elasped\"]\n",
    "y = pixel6a[\"current(mA)\"]\n",
    "plt.plot(x, y)\n",
    "plt.xlabel(\"Time\")\n",
    "plt.ylabel(\"Current (mA)\")\n"
   ]
  },
  {
   "attachments": {},
   "cell_type": "markdown",
   "metadata": {},
   "source": [
    "Shape of all four phones\n"
   ]
  },
  {
   "cell_type": "code",
   "execution_count": 142,
   "metadata": {},
   "outputs": [
    {
     "data": {
      "text/plain": [
       "(3332, 10)"
      ]
     },
     "execution_count": 142,
     "metadata": {},
     "output_type": "execute_result"
    }
   ],
   "source": [
    "pixel6a.shape\n"
   ]
  },
  {
   "cell_type": "code",
   "execution_count": 143,
   "metadata": {},
   "outputs": [
    {
     "data": {
      "text/plain": [
       "(4686, 10)"
      ]
     },
     "execution_count": 143,
     "metadata": {},
     "output_type": "execute_result"
    }
   ],
   "source": [
    "a70.shape\n"
   ]
  },
  {
   "cell_type": "code",
   "execution_count": 144,
   "metadata": {},
   "outputs": [
    {
     "data": {
      "text/plain": [
       "(4464, 10)"
      ]
     },
     "execution_count": 144,
     "metadata": {},
     "output_type": "execute_result"
    }
   ],
   "source": [
    "s21fe.shape\n"
   ]
  },
  {
   "cell_type": "code",
   "execution_count": 145,
   "metadata": {},
   "outputs": [
    {
     "data": {
      "text/plain": [
       "(2889, 10)"
      ]
     },
     "execution_count": 145,
     "metadata": {},
     "output_type": "execute_result"
    }
   ],
   "source": [
    "pixel4a.shape\n"
   ]
  },
  {
   "attachments": {},
   "cell_type": "markdown",
   "metadata": {},
   "source": [
    "Max temp the phone reached while charging\n"
   ]
  },
  {
   "cell_type": "code",
   "execution_count": 146,
   "metadata": {},
   "outputs": [
    {
     "name": "stdout",
     "output_type": "stream",
     "text": [
      "A70 Max Temp 40.1\n",
      "S21FE Max Temp 41.7\n",
      "Pixel 6A Max Temp 42.7\n",
      "Pixel 4A Max Temp 41.4\n"
     ]
    }
   ],
   "source": [
    "print(\"A70 Max Temp\", a70[\"battery_temperature(Celsius)\"].max())\n",
    "print(\"S21FE Max Temp\", s21fe[\"battery_temperature(Celsius)\"].max())\n",
    "print(\"Pixel 6A Max Temp\", pixel6a[\"battery_temperature(Celsius)\"].max())\n",
    "print(\"Pixel 4A Max Temp\", pixel4a[\"battery_temperature(Celsius)\"].max())\n"
   ]
  },
  {
   "attachments": {},
   "cell_type": "markdown",
   "metadata": {},
   "source": [
    "Correlation\n"
   ]
  },
  {
   "cell_type": "code",
   "execution_count": 147,
   "metadata": {},
   "outputs": [
    {
     "data": {
      "text/html": [
       "<div>\n",
       "<style scoped>\n",
       "    .dataframe tbody tr th:only-of-type {\n",
       "        vertical-align: middle;\n",
       "    }\n",
       "\n",
       "    .dataframe tbody tr th {\n",
       "        vertical-align: top;\n",
       "    }\n",
       "\n",
       "    .dataframe thead th {\n",
       "        text-align: right;\n",
       "    }\n",
       "</style>\n",
       "<table border=\"1\" class=\"dataframe\">\n",
       "  <thead>\n",
       "    <tr style=\"text-align: right;\">\n",
       "      <th></th>\n",
       "      <th>voltage(V)</th>\n",
       "      <th>current(mA)</th>\n",
       "      <th>power(W)</th>\n",
       "      <th>battery_percent</th>\n",
       "      <th>battery_temperature(Celsius)</th>\n",
       "      <th>remaining_battery_charge(mAh)</th>\n",
       "      <th>battery_capacity(mAh)</th>\n",
       "    </tr>\n",
       "  </thead>\n",
       "  <tbody>\n",
       "    <tr>\n",
       "      <th>voltage(V)</th>\n",
       "      <td>1.000000</td>\n",
       "      <td>-0.868765</td>\n",
       "      <td>-0.841552</td>\n",
       "      <td>0.961953</td>\n",
       "      <td>-0.725914</td>\n",
       "      <td>0.964408</td>\n",
       "      <td>NaN</td>\n",
       "    </tr>\n",
       "    <tr>\n",
       "      <th>current(mA)</th>\n",
       "      <td>-0.868765</td>\n",
       "      <td>1.000000</td>\n",
       "      <td>0.998412</td>\n",
       "      <td>-0.943624</td>\n",
       "      <td>0.925130</td>\n",
       "      <td>-0.939750</td>\n",
       "      <td>NaN</td>\n",
       "    </tr>\n",
       "    <tr>\n",
       "      <th>power(W)</th>\n",
       "      <td>-0.841552</td>\n",
       "      <td>0.998412</td>\n",
       "      <td>1.000000</td>\n",
       "      <td>-0.925999</td>\n",
       "      <td>0.938359</td>\n",
       "      <td>-0.921439</td>\n",
       "      <td>NaN</td>\n",
       "    </tr>\n",
       "    <tr>\n",
       "      <th>battery_percent</th>\n",
       "      <td>0.961953</td>\n",
       "      <td>-0.943624</td>\n",
       "      <td>-0.925999</td>\n",
       "      <td>1.000000</td>\n",
       "      <td>-0.817088</td>\n",
       "      <td>0.999553</td>\n",
       "      <td>NaN</td>\n",
       "    </tr>\n",
       "    <tr>\n",
       "      <th>battery_temperature(Celsius)</th>\n",
       "      <td>-0.725914</td>\n",
       "      <td>0.925130</td>\n",
       "      <td>0.938359</td>\n",
       "      <td>-0.817088</td>\n",
       "      <td>1.000000</td>\n",
       "      <td>-0.812513</td>\n",
       "      <td>NaN</td>\n",
       "    </tr>\n",
       "    <tr>\n",
       "      <th>remaining_battery_charge(mAh)</th>\n",
       "      <td>0.964408</td>\n",
       "      <td>-0.939750</td>\n",
       "      <td>-0.921439</td>\n",
       "      <td>0.999553</td>\n",
       "      <td>-0.812513</td>\n",
       "      <td>1.000000</td>\n",
       "      <td>NaN</td>\n",
       "    </tr>\n",
       "    <tr>\n",
       "      <th>battery_capacity(mAh)</th>\n",
       "      <td>NaN</td>\n",
       "      <td>NaN</td>\n",
       "      <td>NaN</td>\n",
       "      <td>NaN</td>\n",
       "      <td>NaN</td>\n",
       "      <td>NaN</td>\n",
       "      <td>NaN</td>\n",
       "    </tr>\n",
       "  </tbody>\n",
       "</table>\n",
       "</div>"
      ],
      "text/plain": [
       "                               voltage(V)  current(mA)  power(W)  \\\n",
       "voltage(V)                       1.000000    -0.868765 -0.841552   \n",
       "current(mA)                     -0.868765     1.000000  0.998412   \n",
       "power(W)                        -0.841552     0.998412  1.000000   \n",
       "battery_percent                  0.961953    -0.943624 -0.925999   \n",
       "battery_temperature(Celsius)    -0.725914     0.925130  0.938359   \n",
       "remaining_battery_charge(mAh)    0.964408    -0.939750 -0.921439   \n",
       "battery_capacity(mAh)                 NaN          NaN       NaN   \n",
       "\n",
       "                               battery_percent  battery_temperature(Celsius)  \\\n",
       "voltage(V)                            0.961953                     -0.725914   \n",
       "current(mA)                          -0.943624                      0.925130   \n",
       "power(W)                             -0.925999                      0.938359   \n",
       "battery_percent                       1.000000                     -0.817088   \n",
       "battery_temperature(Celsius)         -0.817088                      1.000000   \n",
       "remaining_battery_charge(mAh)         0.999553                     -0.812513   \n",
       "battery_capacity(mAh)                      NaN                           NaN   \n",
       "\n",
       "                               remaining_battery_charge(mAh)  \\\n",
       "voltage(V)                                          0.964408   \n",
       "current(mA)                                        -0.939750   \n",
       "power(W)                                           -0.921439   \n",
       "battery_percent                                     0.999553   \n",
       "battery_temperature(Celsius)                       -0.812513   \n",
       "remaining_battery_charge(mAh)                       1.000000   \n",
       "battery_capacity(mAh)                                    NaN   \n",
       "\n",
       "                               battery_capacity(mAh)  \n",
       "voltage(V)                                       NaN  \n",
       "current(mA)                                      NaN  \n",
       "power(W)                                         NaN  \n",
       "battery_percent                                  NaN  \n",
       "battery_temperature(Celsius)                     NaN  \n",
       "remaining_battery_charge(mAh)                    NaN  \n",
       "battery_capacity(mAh)                            NaN  "
      ]
     },
     "execution_count": 147,
     "metadata": {},
     "output_type": "execute_result"
    }
   ],
   "source": [
    "pixel6a.corr()\n"
   ]
  },
  {
   "cell_type": "code",
   "execution_count": 148,
   "metadata": {},
   "outputs": [
    {
     "data": {
      "text/html": [
       "<div>\n",
       "<style scoped>\n",
       "    .dataframe tbody tr th:only-of-type {\n",
       "        vertical-align: middle;\n",
       "    }\n",
       "\n",
       "    .dataframe tbody tr th {\n",
       "        vertical-align: top;\n",
       "    }\n",
       "\n",
       "    .dataframe thead th {\n",
       "        text-align: right;\n",
       "    }\n",
       "</style>\n",
       "<table border=\"1\" class=\"dataframe\">\n",
       "  <thead>\n",
       "    <tr style=\"text-align: right;\">\n",
       "      <th></th>\n",
       "      <th>voltage(V)</th>\n",
       "      <th>current(mA)</th>\n",
       "      <th>power(W)</th>\n",
       "      <th>battery_percent</th>\n",
       "      <th>battery_temperature(Celsius)</th>\n",
       "      <th>remaining_battery_charge(mAh)</th>\n",
       "      <th>battery_capacity(mAh)</th>\n",
       "    </tr>\n",
       "  </thead>\n",
       "  <tbody>\n",
       "    <tr>\n",
       "      <th>voltage(V)</th>\n",
       "      <td>1.000000</td>\n",
       "      <td>0.088772</td>\n",
       "      <td>0.143112</td>\n",
       "      <td>0.796245</td>\n",
       "      <td>0.622724</td>\n",
       "      <td>0.794243</td>\n",
       "      <td>NaN</td>\n",
       "    </tr>\n",
       "    <tr>\n",
       "      <th>current(mA)</th>\n",
       "      <td>0.088772</td>\n",
       "      <td>1.000000</td>\n",
       "      <td>0.998250</td>\n",
       "      <td>-0.492034</td>\n",
       "      <td>0.179417</td>\n",
       "      <td>-0.497655</td>\n",
       "      <td>NaN</td>\n",
       "    </tr>\n",
       "    <tr>\n",
       "      <th>power(W)</th>\n",
       "      <td>0.143112</td>\n",
       "      <td>0.998250</td>\n",
       "      <td>1.000000</td>\n",
       "      <td>-0.442711</td>\n",
       "      <td>0.222917</td>\n",
       "      <td>-0.448636</td>\n",
       "      <td>NaN</td>\n",
       "    </tr>\n",
       "    <tr>\n",
       "      <th>battery_percent</th>\n",
       "      <td>0.796245</td>\n",
       "      <td>-0.492034</td>\n",
       "      <td>-0.442711</td>\n",
       "      <td>1.000000</td>\n",
       "      <td>0.547542</td>\n",
       "      <td>0.999432</td>\n",
       "      <td>NaN</td>\n",
       "    </tr>\n",
       "    <tr>\n",
       "      <th>battery_temperature(Celsius)</th>\n",
       "      <td>0.622724</td>\n",
       "      <td>0.179417</td>\n",
       "      <td>0.222917</td>\n",
       "      <td>0.547542</td>\n",
       "      <td>1.000000</td>\n",
       "      <td>0.532167</td>\n",
       "      <td>NaN</td>\n",
       "    </tr>\n",
       "    <tr>\n",
       "      <th>remaining_battery_charge(mAh)</th>\n",
       "      <td>0.794243</td>\n",
       "      <td>-0.497655</td>\n",
       "      <td>-0.448636</td>\n",
       "      <td>0.999432</td>\n",
       "      <td>0.532167</td>\n",
       "      <td>1.000000</td>\n",
       "      <td>NaN</td>\n",
       "    </tr>\n",
       "    <tr>\n",
       "      <th>battery_capacity(mAh)</th>\n",
       "      <td>NaN</td>\n",
       "      <td>NaN</td>\n",
       "      <td>NaN</td>\n",
       "      <td>NaN</td>\n",
       "      <td>NaN</td>\n",
       "      <td>NaN</td>\n",
       "      <td>NaN</td>\n",
       "    </tr>\n",
       "  </tbody>\n",
       "</table>\n",
       "</div>"
      ],
      "text/plain": [
       "                               voltage(V)  current(mA)  power(W)  \\\n",
       "voltage(V)                       1.000000     0.088772  0.143112   \n",
       "current(mA)                      0.088772     1.000000  0.998250   \n",
       "power(W)                         0.143112     0.998250  1.000000   \n",
       "battery_percent                  0.796245    -0.492034 -0.442711   \n",
       "battery_temperature(Celsius)     0.622724     0.179417  0.222917   \n",
       "remaining_battery_charge(mAh)    0.794243    -0.497655 -0.448636   \n",
       "battery_capacity(mAh)                 NaN          NaN       NaN   \n",
       "\n",
       "                               battery_percent  battery_temperature(Celsius)  \\\n",
       "voltage(V)                            0.796245                      0.622724   \n",
       "current(mA)                          -0.492034                      0.179417   \n",
       "power(W)                             -0.442711                      0.222917   \n",
       "battery_percent                       1.000000                      0.547542   \n",
       "battery_temperature(Celsius)          0.547542                      1.000000   \n",
       "remaining_battery_charge(mAh)         0.999432                      0.532167   \n",
       "battery_capacity(mAh)                      NaN                           NaN   \n",
       "\n",
       "                               remaining_battery_charge(mAh)  \\\n",
       "voltage(V)                                          0.794243   \n",
       "current(mA)                                        -0.497655   \n",
       "power(W)                                           -0.448636   \n",
       "battery_percent                                     0.999432   \n",
       "battery_temperature(Celsius)                        0.532167   \n",
       "remaining_battery_charge(mAh)                       1.000000   \n",
       "battery_capacity(mAh)                                    NaN   \n",
       "\n",
       "                               battery_capacity(mAh)  \n",
       "voltage(V)                                       NaN  \n",
       "current(mA)                                      NaN  \n",
       "power(W)                                         NaN  \n",
       "battery_percent                                  NaN  \n",
       "battery_temperature(Celsius)                     NaN  \n",
       "remaining_battery_charge(mAh)                    NaN  \n",
       "battery_capacity(mAh)                            NaN  "
      ]
     },
     "execution_count": 148,
     "metadata": {},
     "output_type": "execute_result"
    }
   ],
   "source": [
    "a70.corr()\n"
   ]
  },
  {
   "cell_type": "code",
   "execution_count": 149,
   "metadata": {},
   "outputs": [
    {
     "data": {
      "text/html": [
       "<div>\n",
       "<style scoped>\n",
       "    .dataframe tbody tr th:only-of-type {\n",
       "        vertical-align: middle;\n",
       "    }\n",
       "\n",
       "    .dataframe tbody tr th {\n",
       "        vertical-align: top;\n",
       "    }\n",
       "\n",
       "    .dataframe thead th {\n",
       "        text-align: right;\n",
       "    }\n",
       "</style>\n",
       "<table border=\"1\" class=\"dataframe\">\n",
       "  <thead>\n",
       "    <tr style=\"text-align: right;\">\n",
       "      <th></th>\n",
       "      <th>voltage(V)</th>\n",
       "      <th>current(mA)</th>\n",
       "      <th>power(W)</th>\n",
       "      <th>battery_percent</th>\n",
       "      <th>battery_temperature(Celsius)</th>\n",
       "      <th>remaining_battery_charge(mAh)</th>\n",
       "      <th>battery_capacity(mAh)</th>\n",
       "    </tr>\n",
       "  </thead>\n",
       "  <tbody>\n",
       "    <tr>\n",
       "      <th>voltage(V)</th>\n",
       "      <td>1.000000</td>\n",
       "      <td>-0.387511</td>\n",
       "      <td>-0.311557</td>\n",
       "      <td>0.926127</td>\n",
       "      <td>-0.432842</td>\n",
       "      <td>0.926291</td>\n",
       "      <td>NaN</td>\n",
       "    </tr>\n",
       "    <tr>\n",
       "      <th>current(mA)</th>\n",
       "      <td>-0.387511</td>\n",
       "      <td>1.000000</td>\n",
       "      <td>0.995779</td>\n",
       "      <td>-0.635516</td>\n",
       "      <td>0.411069</td>\n",
       "      <td>-0.636134</td>\n",
       "      <td>NaN</td>\n",
       "    </tr>\n",
       "    <tr>\n",
       "      <th>power(W)</th>\n",
       "      <td>-0.311557</td>\n",
       "      <td>0.995779</td>\n",
       "      <td>1.000000</td>\n",
       "      <td>-0.569778</td>\n",
       "      <td>0.407685</td>\n",
       "      <td>-0.570358</td>\n",
       "      <td>NaN</td>\n",
       "    </tr>\n",
       "    <tr>\n",
       "      <th>battery_percent</th>\n",
       "      <td>0.926127</td>\n",
       "      <td>-0.635516</td>\n",
       "      <td>-0.569778</td>\n",
       "      <td>1.000000</td>\n",
       "      <td>-0.467203</td>\n",
       "      <td>0.999941</td>\n",
       "      <td>NaN</td>\n",
       "    </tr>\n",
       "    <tr>\n",
       "      <th>battery_temperature(Celsius)</th>\n",
       "      <td>-0.432842</td>\n",
       "      <td>0.411069</td>\n",
       "      <td>0.407685</td>\n",
       "      <td>-0.467203</td>\n",
       "      <td>1.000000</td>\n",
       "      <td>-0.465893</td>\n",
       "      <td>NaN</td>\n",
       "    </tr>\n",
       "    <tr>\n",
       "      <th>remaining_battery_charge(mAh)</th>\n",
       "      <td>0.926291</td>\n",
       "      <td>-0.636134</td>\n",
       "      <td>-0.570358</td>\n",
       "      <td>0.999941</td>\n",
       "      <td>-0.465893</td>\n",
       "      <td>1.000000</td>\n",
       "      <td>NaN</td>\n",
       "    </tr>\n",
       "    <tr>\n",
       "      <th>battery_capacity(mAh)</th>\n",
       "      <td>NaN</td>\n",
       "      <td>NaN</td>\n",
       "      <td>NaN</td>\n",
       "      <td>NaN</td>\n",
       "      <td>NaN</td>\n",
       "      <td>NaN</td>\n",
       "      <td>NaN</td>\n",
       "    </tr>\n",
       "  </tbody>\n",
       "</table>\n",
       "</div>"
      ],
      "text/plain": [
       "                               voltage(V)  current(mA)  power(W)  \\\n",
       "voltage(V)                       1.000000    -0.387511 -0.311557   \n",
       "current(mA)                     -0.387511     1.000000  0.995779   \n",
       "power(W)                        -0.311557     0.995779  1.000000   \n",
       "battery_percent                  0.926127    -0.635516 -0.569778   \n",
       "battery_temperature(Celsius)    -0.432842     0.411069  0.407685   \n",
       "remaining_battery_charge(mAh)    0.926291    -0.636134 -0.570358   \n",
       "battery_capacity(mAh)                 NaN          NaN       NaN   \n",
       "\n",
       "                               battery_percent  battery_temperature(Celsius)  \\\n",
       "voltage(V)                            0.926127                     -0.432842   \n",
       "current(mA)                          -0.635516                      0.411069   \n",
       "power(W)                             -0.569778                      0.407685   \n",
       "battery_percent                       1.000000                     -0.467203   \n",
       "battery_temperature(Celsius)         -0.467203                      1.000000   \n",
       "remaining_battery_charge(mAh)         0.999941                     -0.465893   \n",
       "battery_capacity(mAh)                      NaN                           NaN   \n",
       "\n",
       "                               remaining_battery_charge(mAh)  \\\n",
       "voltage(V)                                          0.926291   \n",
       "current(mA)                                        -0.636134   \n",
       "power(W)                                           -0.570358   \n",
       "battery_percent                                     0.999941   \n",
       "battery_temperature(Celsius)                       -0.465893   \n",
       "remaining_battery_charge(mAh)                       1.000000   \n",
       "battery_capacity(mAh)                                    NaN   \n",
       "\n",
       "                               battery_capacity(mAh)  \n",
       "voltage(V)                                       NaN  \n",
       "current(mA)                                      NaN  \n",
       "power(W)                                         NaN  \n",
       "battery_percent                                  NaN  \n",
       "battery_temperature(Celsius)                     NaN  \n",
       "remaining_battery_charge(mAh)                    NaN  \n",
       "battery_capacity(mAh)                            NaN  "
      ]
     },
     "execution_count": 149,
     "metadata": {},
     "output_type": "execute_result"
    }
   ],
   "source": [
    "s21fe.corr()\n"
   ]
  },
  {
   "cell_type": "code",
   "execution_count": 150,
   "metadata": {},
   "outputs": [
    {
     "data": {
      "text/html": [
       "<div>\n",
       "<style scoped>\n",
       "    .dataframe tbody tr th:only-of-type {\n",
       "        vertical-align: middle;\n",
       "    }\n",
       "\n",
       "    .dataframe tbody tr th {\n",
       "        vertical-align: top;\n",
       "    }\n",
       "\n",
       "    .dataframe thead th {\n",
       "        text-align: right;\n",
       "    }\n",
       "</style>\n",
       "<table border=\"1\" class=\"dataframe\">\n",
       "  <thead>\n",
       "    <tr style=\"text-align: right;\">\n",
       "      <th></th>\n",
       "      <th>voltage(V)</th>\n",
       "      <th>current(mA)</th>\n",
       "      <th>power(W)</th>\n",
       "      <th>battery_percent</th>\n",
       "      <th>battery_temperature(Celsius)</th>\n",
       "      <th>remaining_battery_charge(mAh)</th>\n",
       "      <th>battery_capacity(mAh)</th>\n",
       "    </tr>\n",
       "  </thead>\n",
       "  <tbody>\n",
       "    <tr>\n",
       "      <th>voltage(V)</th>\n",
       "      <td>1.000000</td>\n",
       "      <td>-0.734010</td>\n",
       "      <td>-0.681379</td>\n",
       "      <td>0.954687</td>\n",
       "      <td>-0.485023</td>\n",
       "      <td>0.959233</td>\n",
       "      <td>NaN</td>\n",
       "    </tr>\n",
       "    <tr>\n",
       "      <th>current(mA)</th>\n",
       "      <td>-0.734010</td>\n",
       "      <td>1.000000</td>\n",
       "      <td>0.996327</td>\n",
       "      <td>-0.849624</td>\n",
       "      <td>0.640539</td>\n",
       "      <td>-0.852406</td>\n",
       "      <td>NaN</td>\n",
       "    </tr>\n",
       "    <tr>\n",
       "      <th>power(W)</th>\n",
       "      <td>-0.681379</td>\n",
       "      <td>0.996327</td>\n",
       "      <td>1.000000</td>\n",
       "      <td>-0.803863</td>\n",
       "      <td>0.668082</td>\n",
       "      <td>-0.807449</td>\n",
       "      <td>NaN</td>\n",
       "    </tr>\n",
       "    <tr>\n",
       "      <th>battery_percent</th>\n",
       "      <td>0.954687</td>\n",
       "      <td>-0.849624</td>\n",
       "      <td>-0.803863</td>\n",
       "      <td>1.000000</td>\n",
       "      <td>-0.447011</td>\n",
       "      <td>0.999495</td>\n",
       "      <td>NaN</td>\n",
       "    </tr>\n",
       "    <tr>\n",
       "      <th>battery_temperature(Celsius)</th>\n",
       "      <td>-0.485023</td>\n",
       "      <td>0.640539</td>\n",
       "      <td>0.668082</td>\n",
       "      <td>-0.447011</td>\n",
       "      <td>1.000000</td>\n",
       "      <td>-0.467295</td>\n",
       "      <td>NaN</td>\n",
       "    </tr>\n",
       "    <tr>\n",
       "      <th>remaining_battery_charge(mAh)</th>\n",
       "      <td>0.959233</td>\n",
       "      <td>-0.852406</td>\n",
       "      <td>-0.807449</td>\n",
       "      <td>0.999495</td>\n",
       "      <td>-0.467295</td>\n",
       "      <td>1.000000</td>\n",
       "      <td>NaN</td>\n",
       "    </tr>\n",
       "    <tr>\n",
       "      <th>battery_capacity(mAh)</th>\n",
       "      <td>NaN</td>\n",
       "      <td>NaN</td>\n",
       "      <td>NaN</td>\n",
       "      <td>NaN</td>\n",
       "      <td>NaN</td>\n",
       "      <td>NaN</td>\n",
       "      <td>NaN</td>\n",
       "    </tr>\n",
       "  </tbody>\n",
       "</table>\n",
       "</div>"
      ],
      "text/plain": [
       "                               voltage(V)  current(mA)  power(W)  \\\n",
       "voltage(V)                       1.000000    -0.734010 -0.681379   \n",
       "current(mA)                     -0.734010     1.000000  0.996327   \n",
       "power(W)                        -0.681379     0.996327  1.000000   \n",
       "battery_percent                  0.954687    -0.849624 -0.803863   \n",
       "battery_temperature(Celsius)    -0.485023     0.640539  0.668082   \n",
       "remaining_battery_charge(mAh)    0.959233    -0.852406 -0.807449   \n",
       "battery_capacity(mAh)                 NaN          NaN       NaN   \n",
       "\n",
       "                               battery_percent  battery_temperature(Celsius)  \\\n",
       "voltage(V)                            0.954687                     -0.485023   \n",
       "current(mA)                          -0.849624                      0.640539   \n",
       "power(W)                             -0.803863                      0.668082   \n",
       "battery_percent                       1.000000                     -0.447011   \n",
       "battery_temperature(Celsius)         -0.447011                      1.000000   \n",
       "remaining_battery_charge(mAh)         0.999495                     -0.467295   \n",
       "battery_capacity(mAh)                      NaN                           NaN   \n",
       "\n",
       "                               remaining_battery_charge(mAh)  \\\n",
       "voltage(V)                                          0.959233   \n",
       "current(mA)                                        -0.852406   \n",
       "power(W)                                           -0.807449   \n",
       "battery_percent                                     0.999495   \n",
       "battery_temperature(Celsius)                       -0.467295   \n",
       "remaining_battery_charge(mAh)                       1.000000   \n",
       "battery_capacity(mAh)                                    NaN   \n",
       "\n",
       "                               battery_capacity(mAh)  \n",
       "voltage(V)                                       NaN  \n",
       "current(mA)                                      NaN  \n",
       "power(W)                                         NaN  \n",
       "battery_percent                                  NaN  \n",
       "battery_temperature(Celsius)                     NaN  \n",
       "remaining_battery_charge(mAh)                    NaN  \n",
       "battery_capacity(mAh)                            NaN  "
      ]
     },
     "execution_count": 150,
     "metadata": {},
     "output_type": "execute_result"
    }
   ],
   "source": [
    "pixel4a.corr()\n"
   ]
  }
 ],
 "metadata": {
  "kernelspec": {
   "display_name": "Python 3",
   "language": "python",
   "name": "python3"
  },
  "language_info": {
   "codemirror_mode": {
    "name": "ipython",
    "version": 3
   },
   "file_extension": ".py",
   "mimetype": "text/x-python",
   "name": "python",
   "nbconvert_exporter": "python",
   "pygments_lexer": "ipython3",
   "version": "3.10.6"
  },
  "orig_nbformat": 4
 },
 "nbformat": 4,
 "nbformat_minor": 2
}
