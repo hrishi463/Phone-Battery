{
 "cells": [
  {
   "cell_type": "code",
   "execution_count": 383,
   "metadata": {},
   "outputs": [],
   "source": [
    "import pandas as pd\n",
    "import matplotlib.pyplot as plt"
   ]
  },
  {
   "cell_type": "code",
   "execution_count": 384,
   "metadata": {},
   "outputs": [],
   "source": [
    "s21fe = pd.read_csv(\"dataset/samsung_s21fe-data.csv\")\n",
    "pixel6a = pd.read_csv(\"dataset/pixel_6a-data.csv\")\n",
    "a70 = pd.read_csv(\"dataset/samsung_a70-data.csv\")\n",
    "pixel4a = pd.read_csv(\"dataset/pixel_4a-data.csv\")"
   ]
  },
  {
   "attachments": {},
   "cell_type": "markdown",
   "metadata": {},
   "source": [
    "converting a feature to date time\n"
   ]
  },
  {
   "cell_type": "code",
   "execution_count": 385,
   "metadata": {},
   "outputs": [],
   "source": [
    "s21fe[\"timestamp\"] = pd.to_datetime(s21fe[\"timestamp\"])\n",
    "pixel4a[\"timestamp\"] = pd.to_datetime(pixel4a[\"timestamp\"])\n",
    "pixel6a[\"timestamp\"] = pd.to_datetime(pixel6a[\"timestamp\"])\n",
    "a70[\"timestamp\"] = pd.to_datetime(a70[\"timestamp\"])"
   ]
  },
  {
   "cell_type": "code",
   "execution_count": 386,
   "metadata": {},
   "outputs": [],
   "source": [
    "s21fe.drop(range(4326,4464),inplace=True)\n",
    "s21fe.reset_index(drop=True, inplace=True)"
   ]
  },
  {
   "cell_type": "code",
   "execution_count": 387,
   "metadata": {},
   "outputs": [
    {
     "data": {
      "text/html": [
       "<div>\n",
       "<style scoped>\n",
       "    .dataframe tbody tr th:only-of-type {\n",
       "        vertical-align: middle;\n",
       "    }\n",
       "\n",
       "    .dataframe tbody tr th {\n",
       "        vertical-align: top;\n",
       "    }\n",
       "\n",
       "    .dataframe thead th {\n",
       "        text-align: right;\n",
       "    }\n",
       "</style>\n",
       "<table border=\"1\" class=\"dataframe\">\n",
       "  <thead>\n",
       "    <tr style=\"text-align: right;\">\n",
       "      <th></th>\n",
       "      <th>timestamp</th>\n",
       "      <th>voltage(V)</th>\n",
       "      <th>current(mA)</th>\n",
       "      <th>power(W)</th>\n",
       "      <th>battery_percent</th>\n",
       "      <th>battery_temperature(Celsius)</th>\n",
       "      <th>remaining_battery_charge(mAh)</th>\n",
       "      <th>battery_capacity(mAh)</th>\n",
       "      <th>battery_technology</th>\n",
       "    </tr>\n",
       "  </thead>\n",
       "  <tbody>\n",
       "    <tr>\n",
       "      <th>4679</th>\n",
       "      <td>2023-04-14 19:00:46.508</td>\n",
       "      <td>4.294</td>\n",
       "      <td>609</td>\n",
       "      <td>2.615046</td>\n",
       "      <td>100</td>\n",
       "      <td>37.2</td>\n",
       "      <td>3121.2</td>\n",
       "      <td>4400</td>\n",
       "      <td>Li-ion</td>\n",
       "    </tr>\n",
       "    <tr>\n",
       "      <th>4680</th>\n",
       "      <td>2023-04-14 19:00:47.561</td>\n",
       "      <td>4.294</td>\n",
       "      <td>607</td>\n",
       "      <td>2.606458</td>\n",
       "      <td>100</td>\n",
       "      <td>37.1</td>\n",
       "      <td>3121.2</td>\n",
       "      <td>4400</td>\n",
       "      <td>Li-ion</td>\n",
       "    </tr>\n",
       "    <tr>\n",
       "      <th>4681</th>\n",
       "      <td>2023-04-14 19:00:48.619</td>\n",
       "      <td>4.294</td>\n",
       "      <td>610</td>\n",
       "      <td>2.619340</td>\n",
       "      <td>100</td>\n",
       "      <td>37.1</td>\n",
       "      <td>3121.2</td>\n",
       "      <td>4400</td>\n",
       "      <td>Li-ion</td>\n",
       "    </tr>\n",
       "    <tr>\n",
       "      <th>4682</th>\n",
       "      <td>2023-04-14 19:00:49.665</td>\n",
       "      <td>4.294</td>\n",
       "      <td>607</td>\n",
       "      <td>2.606458</td>\n",
       "      <td>100</td>\n",
       "      <td>37.1</td>\n",
       "      <td>3121.2</td>\n",
       "      <td>4400</td>\n",
       "      <td>Li-ion</td>\n",
       "    </tr>\n",
       "    <tr>\n",
       "      <th>4683</th>\n",
       "      <td>2023-04-14 19:00:50.827</td>\n",
       "      <td>4.294</td>\n",
       "      <td>608</td>\n",
       "      <td>2.610752</td>\n",
       "      <td>100</td>\n",
       "      <td>37.1</td>\n",
       "      <td>3121.2</td>\n",
       "      <td>4400</td>\n",
       "      <td>Li-ion</td>\n",
       "    </tr>\n",
       "    <tr>\n",
       "      <th>4684</th>\n",
       "      <td>2023-04-14 19:00:51.870</td>\n",
       "      <td>4.294</td>\n",
       "      <td>609</td>\n",
       "      <td>2.615046</td>\n",
       "      <td>100</td>\n",
       "      <td>37.1</td>\n",
       "      <td>3121.2</td>\n",
       "      <td>4400</td>\n",
       "      <td>Li-ion</td>\n",
       "    </tr>\n",
       "    <tr>\n",
       "      <th>4685</th>\n",
       "      <td>2023-04-14 19:00:53.524</td>\n",
       "      <td>4.294</td>\n",
       "      <td>399</td>\n",
       "      <td>1.713306</td>\n",
       "      <td>100</td>\n",
       "      <td>37.1</td>\n",
       "      <td>3121.2</td>\n",
       "      <td>4400</td>\n",
       "      <td>Li-ion</td>\n",
       "    </tr>\n",
       "  </tbody>\n",
       "</table>\n",
       "</div>"
      ],
      "text/plain": [
       "                   timestamp  voltage(V)  current(mA)  power(W)  \\\n",
       "4679 2023-04-14 19:00:46.508       4.294          609  2.615046   \n",
       "4680 2023-04-14 19:00:47.561       4.294          607  2.606458   \n",
       "4681 2023-04-14 19:00:48.619       4.294          610  2.619340   \n",
       "4682 2023-04-14 19:00:49.665       4.294          607  2.606458   \n",
       "4683 2023-04-14 19:00:50.827       4.294          608  2.610752   \n",
       "4684 2023-04-14 19:00:51.870       4.294          609  2.615046   \n",
       "4685 2023-04-14 19:00:53.524       4.294          399  1.713306   \n",
       "\n",
       "      battery_percent  battery_temperature(Celsius)  \\\n",
       "4679              100                          37.2   \n",
       "4680              100                          37.1   \n",
       "4681              100                          37.1   \n",
       "4682              100                          37.1   \n",
       "4683              100                          37.1   \n",
       "4684              100                          37.1   \n",
       "4685              100                          37.1   \n",
       "\n",
       "      remaining_battery_charge(mAh)  battery_capacity(mAh) battery_technology  \n",
       "4679                         3121.2                   4400             Li-ion  \n",
       "4680                         3121.2                   4400             Li-ion  \n",
       "4681                         3121.2                   4400             Li-ion  \n",
       "4682                         3121.2                   4400             Li-ion  \n",
       "4683                         3121.2                   4400             Li-ion  \n",
       "4684                         3121.2                   4400             Li-ion  \n",
       "4685                         3121.2                   4400             Li-ion  "
      ]
     },
     "execution_count": 387,
     "metadata": {},
     "output_type": "execute_result"
    }
   ],
   "source": [
    "a70.loc[a70[\"battery_percent\"] == 100]"
   ]
  },
  {
   "attachments": {},
   "cell_type": "markdown",
   "metadata": {},
   "source": [
    "Dropping extra rows of 100% battery"
   ]
  },
  {
   "cell_type": "code",
   "execution_count": 388,
   "metadata": {},
   "outputs": [],
   "source": [
    "a70.drop(range(4684,4686),inplace=True)\n",
    "a70.reset_index(drop=True, inplace=True)"
   ]
  },
  {
   "cell_type": "code",
   "execution_count": 389,
   "metadata": {},
   "outputs": [],
   "source": [
    "pixel4a.drop(range(2797,2889),inplace=True)\n",
    "pixel4a.reset_index(drop=True, inplace=True)"
   ]
  },
  {
   "cell_type": "code",
   "execution_count": 390,
   "metadata": {},
   "outputs": [],
   "source": [
    "pixel6a.drop(range(3034,3332),inplace=True)\n",
    "pixel6a.reset_index(drop=True, inplace=True)"
   ]
  },
  {
   "cell_type": "code",
   "execution_count": 391,
   "metadata": {},
   "outputs": [],
   "source": [
    "t1 = s21fe.iloc[0,0]\n",
    "t2 = a70.iloc[0,0]\n",
    "t3 = pixel4a.iloc[0,0]\n",
    "t4 = pixel6a.iloc[0,0]"
   ]
  },
  {
   "cell_type": "code",
   "execution_count": 392,
   "metadata": {},
   "outputs": [],
   "source": [
    "time1 = []\n",
    "for index,row in s21fe.iterrows() :\n",
    "    time1.append(row['timestamp']-t1)\n",
    "s21fe[\"time_elasped\"] = time1"
   ]
  },
  {
   "cell_type": "code",
   "execution_count": 393,
   "metadata": {},
   "outputs": [],
   "source": [
    "time2 = []\n",
    "for index,row in a70.iterrows() :\n",
    "    time2.append(row['timestamp']-t2)\n",
    "a70[\"time_elasped\"] = time2"
   ]
  },
  {
   "cell_type": "code",
   "execution_count": 394,
   "metadata": {},
   "outputs": [],
   "source": [
    "time3 = []\n",
    "for index,row in pixel4a.iterrows() :\n",
    "    time3.append(row['timestamp']-t3)\n",
    "pixel4a[\"time_elasped\"] = time3"
   ]
  },
  {
   "cell_type": "code",
   "execution_count": 395,
   "metadata": {},
   "outputs": [],
   "source": [
    "time4 = []\n",
    "for index,row in pixel6a.iterrows() :\n",
    "    time4.append(row['timestamp']-t4)\n",
    "pixel6a[\"time_elasped\"] = time4"
   ]
  },
  {
   "cell_type": "code",
   "execution_count": 396,
   "metadata": {},
   "outputs": [
    {
     "name": "stdout",
     "output_type": "stream",
     "text": [
      "<class 'pandas.core.frame.DataFrame'>\n",
      "RangeIndex: 3034 entries, 0 to 3033\n",
      "Data columns (total 10 columns):\n",
      " #   Column                         Non-Null Count  Dtype          \n",
      "---  ------                         --------------  -----          \n",
      " 0   timestamp                      3034 non-null   datetime64[ns] \n",
      " 1   voltage(V)                     3034 non-null   float64        \n",
      " 2   current(mA)                    3034 non-null   int64          \n",
      " 3   power(W)                       3034 non-null   float64        \n",
      " 4   battery_percent                3034 non-null   int64          \n",
      " 5   battery_temperature(Celsius)   3034 non-null   float64        \n",
      " 6   remaining_battery_charge(mAh)  3034 non-null   int64          \n",
      " 7   battery_capacity(mAh)          3034 non-null   int64          \n",
      " 8   battery_technology             3034 non-null   object         \n",
      " 9   time_elasped                   3034 non-null   timedelta64[ns]\n",
      "dtypes: datetime64[ns](1), float64(3), int64(4), object(1), timedelta64[ns](1)\n",
      "memory usage: 237.2+ KB\n"
     ]
    }
   ],
   "source": [
    "pixel6a.info()"
   ]
  },
  {
   "cell_type": "code",
   "execution_count": 397,
   "metadata": {},
   "outputs": [
    {
     "data": {
      "text/html": [
       "<div>\n",
       "<style scoped>\n",
       "    .dataframe tbody tr th:only-of-type {\n",
       "        vertical-align: middle;\n",
       "    }\n",
       "\n",
       "    .dataframe tbody tr th {\n",
       "        vertical-align: top;\n",
       "    }\n",
       "\n",
       "    .dataframe thead th {\n",
       "        text-align: right;\n",
       "    }\n",
       "</style>\n",
       "<table border=\"1\" class=\"dataframe\">\n",
       "  <thead>\n",
       "    <tr style=\"text-align: right;\">\n",
       "      <th></th>\n",
       "      <th>timestamp</th>\n",
       "      <th>voltage(V)</th>\n",
       "      <th>current(mA)</th>\n",
       "      <th>power(W)</th>\n",
       "      <th>battery_percent</th>\n",
       "      <th>battery_temperature(Celsius)</th>\n",
       "      <th>remaining_battery_charge(mAh)</th>\n",
       "      <th>battery_capacity(mAh)</th>\n",
       "      <th>battery_technology</th>\n",
       "      <th>time_elasped</th>\n",
       "    </tr>\n",
       "  </thead>\n",
       "  <tbody>\n",
       "    <tr>\n",
       "      <th>3029</th>\n",
       "      <td>2023-04-14 21:22:06.119</td>\n",
       "      <td>4.435</td>\n",
       "      <td>448</td>\n",
       "      <td>1.987434</td>\n",
       "      <td>100</td>\n",
       "      <td>33.4</td>\n",
       "      <td>4386</td>\n",
       "      <td>4410</td>\n",
       "      <td>Li-ion</td>\n",
       "      <td>0 days 01:51:57.635000</td>\n",
       "    </tr>\n",
       "    <tr>\n",
       "      <th>3030</th>\n",
       "      <td>2023-04-14 21:22:07.147</td>\n",
       "      <td>4.435</td>\n",
       "      <td>444</td>\n",
       "      <td>1.969415</td>\n",
       "      <td>100</td>\n",
       "      <td>33.4</td>\n",
       "      <td>4386</td>\n",
       "      <td>4410</td>\n",
       "      <td>Li-ion</td>\n",
       "      <td>0 days 01:51:58.663000</td>\n",
       "    </tr>\n",
       "    <tr>\n",
       "      <th>3031</th>\n",
       "      <td>2023-04-14 21:22:08.178</td>\n",
       "      <td>4.435</td>\n",
       "      <td>452</td>\n",
       "      <td>2.006838</td>\n",
       "      <td>100</td>\n",
       "      <td>33.4</td>\n",
       "      <td>4388</td>\n",
       "      <td>4410</td>\n",
       "      <td>Li-ion</td>\n",
       "      <td>0 days 01:51:59.694000</td>\n",
       "    </tr>\n",
       "    <tr>\n",
       "      <th>3032</th>\n",
       "      <td>2023-04-14 21:22:09.207</td>\n",
       "      <td>4.435</td>\n",
       "      <td>432</td>\n",
       "      <td>1.919521</td>\n",
       "      <td>100</td>\n",
       "      <td>33.4</td>\n",
       "      <td>4388</td>\n",
       "      <td>4410</td>\n",
       "      <td>Li-ion</td>\n",
       "      <td>0 days 01:52:00.723000</td>\n",
       "    </tr>\n",
       "    <tr>\n",
       "      <th>3033</th>\n",
       "      <td>2023-04-14 21:22:10.248</td>\n",
       "      <td>4.435</td>\n",
       "      <td>442</td>\n",
       "      <td>1.961099</td>\n",
       "      <td>100</td>\n",
       "      <td>33.4</td>\n",
       "      <td>4388</td>\n",
       "      <td>4410</td>\n",
       "      <td>Li-ion</td>\n",
       "      <td>0 days 01:52:01.764000</td>\n",
       "    </tr>\n",
       "  </tbody>\n",
       "</table>\n",
       "</div>"
      ],
      "text/plain": [
       "                   timestamp  voltage(V)  current(mA)  power(W)  \\\n",
       "3029 2023-04-14 21:22:06.119       4.435          448  1.987434   \n",
       "3030 2023-04-14 21:22:07.147       4.435          444  1.969415   \n",
       "3031 2023-04-14 21:22:08.178       4.435          452  2.006838   \n",
       "3032 2023-04-14 21:22:09.207       4.435          432  1.919521   \n",
       "3033 2023-04-14 21:22:10.248       4.435          442  1.961099   \n",
       "\n",
       "      battery_percent  battery_temperature(Celsius)  \\\n",
       "3029              100                          33.4   \n",
       "3030              100                          33.4   \n",
       "3031              100                          33.4   \n",
       "3032              100                          33.4   \n",
       "3033              100                          33.4   \n",
       "\n",
       "      remaining_battery_charge(mAh)  battery_capacity(mAh) battery_technology  \\\n",
       "3029                           4386                   4410             Li-ion   \n",
       "3030                           4386                   4410             Li-ion   \n",
       "3031                           4388                   4410             Li-ion   \n",
       "3032                           4388                   4410             Li-ion   \n",
       "3033                           4388                   4410             Li-ion   \n",
       "\n",
       "               time_elasped  \n",
       "3029 0 days 01:51:57.635000  \n",
       "3030 0 days 01:51:58.663000  \n",
       "3031 0 days 01:51:59.694000  \n",
       "3032 0 days 01:52:00.723000  \n",
       "3033 0 days 01:52:01.764000  "
      ]
     },
     "execution_count": 397,
     "metadata": {},
     "output_type": "execute_result"
    }
   ],
   "source": [
    "pixel6a.tail()"
   ]
  },
  {
   "cell_type": "code",
   "execution_count": 398,
   "metadata": {},
   "outputs": [
    {
     "data": {
      "text/html": [
       "<div>\n",
       "<style scoped>\n",
       "    .dataframe tbody tr th:only-of-type {\n",
       "        vertical-align: middle;\n",
       "    }\n",
       "\n",
       "    .dataframe tbody tr th {\n",
       "        vertical-align: top;\n",
       "    }\n",
       "\n",
       "    .dataframe thead th {\n",
       "        text-align: right;\n",
       "    }\n",
       "</style>\n",
       "<table border=\"1\" class=\"dataframe\">\n",
       "  <thead>\n",
       "    <tr style=\"text-align: right;\">\n",
       "      <th></th>\n",
       "      <th>timestamp</th>\n",
       "      <th>voltage(V)</th>\n",
       "      <th>current(mA)</th>\n",
       "      <th>power(W)</th>\n",
       "      <th>battery_percent</th>\n",
       "      <th>battery_temperature(Celsius)</th>\n",
       "      <th>remaining_battery_charge(mAh)</th>\n",
       "      <th>battery_capacity(mAh)</th>\n",
       "      <th>battery_technology</th>\n",
       "      <th>time_elasped</th>\n",
       "    </tr>\n",
       "  </thead>\n",
       "  <tbody>\n",
       "    <tr>\n",
       "      <th>0</th>\n",
       "      <td>2023-04-14 13:05:45.846</td>\n",
       "      <td>3.36</td>\n",
       "      <td>1595</td>\n",
       "      <td>5.35920</td>\n",
       "      <td>1</td>\n",
       "      <td>37.1</td>\n",
       "      <td>0.0</td>\n",
       "      <td>4370</td>\n",
       "      <td>Li-ion</td>\n",
       "      <td>0 days 00:00:00</td>\n",
       "    </tr>\n",
       "    <tr>\n",
       "      <th>1</th>\n",
       "      <td>2023-04-14 13:05:47.004</td>\n",
       "      <td>3.36</td>\n",
       "      <td>1434</td>\n",
       "      <td>4.81824</td>\n",
       "      <td>1</td>\n",
       "      <td>37.1</td>\n",
       "      <td>0.0</td>\n",
       "      <td>4370</td>\n",
       "      <td>Li-ion</td>\n",
       "      <td>0 days 00:00:01.158000</td>\n",
       "    </tr>\n",
       "    <tr>\n",
       "      <th>2</th>\n",
       "      <td>2023-04-14 13:05:48.050</td>\n",
       "      <td>3.36</td>\n",
       "      <td>565</td>\n",
       "      <td>1.89840</td>\n",
       "      <td>1</td>\n",
       "      <td>37.1</td>\n",
       "      <td>0.0</td>\n",
       "      <td>4370</td>\n",
       "      <td>Li-ion</td>\n",
       "      <td>0 days 00:00:02.204000</td>\n",
       "    </tr>\n",
       "    <tr>\n",
       "      <th>3</th>\n",
       "      <td>2023-04-14 13:05:49.085</td>\n",
       "      <td>3.36</td>\n",
       "      <td>1654</td>\n",
       "      <td>5.55744</td>\n",
       "      <td>1</td>\n",
       "      <td>37.1</td>\n",
       "      <td>0.0</td>\n",
       "      <td>4370</td>\n",
       "      <td>Li-ion</td>\n",
       "      <td>0 days 00:00:03.239000</td>\n",
       "    </tr>\n",
       "    <tr>\n",
       "      <th>4</th>\n",
       "      <td>2023-04-14 13:05:50.110</td>\n",
       "      <td>3.36</td>\n",
       "      <td>884</td>\n",
       "      <td>2.97024</td>\n",
       "      <td>1</td>\n",
       "      <td>37.1</td>\n",
       "      <td>0.0</td>\n",
       "      <td>4370</td>\n",
       "      <td>Li-ion</td>\n",
       "      <td>0 days 00:00:04.264000</td>\n",
       "    </tr>\n",
       "  </tbody>\n",
       "</table>\n",
       "</div>"
      ],
      "text/plain": [
       "                timestamp  voltage(V)  current(mA)  power(W)  battery_percent  \\\n",
       "0 2023-04-14 13:05:45.846        3.36         1595   5.35920                1   \n",
       "1 2023-04-14 13:05:47.004        3.36         1434   4.81824                1   \n",
       "2 2023-04-14 13:05:48.050        3.36          565   1.89840                1   \n",
       "3 2023-04-14 13:05:49.085        3.36         1654   5.55744                1   \n",
       "4 2023-04-14 13:05:50.110        3.36          884   2.97024                1   \n",
       "\n",
       "   battery_temperature(Celsius)  remaining_battery_charge(mAh)  \\\n",
       "0                          37.1                            0.0   \n",
       "1                          37.1                            0.0   \n",
       "2                          37.1                            0.0   \n",
       "3                          37.1                            0.0   \n",
       "4                          37.1                            0.0   \n",
       "\n",
       "   battery_capacity(mAh) battery_technology           time_elasped  \n",
       "0                   4370             Li-ion        0 days 00:00:00  \n",
       "1                   4370             Li-ion 0 days 00:00:01.158000  \n",
       "2                   4370             Li-ion 0 days 00:00:02.204000  \n",
       "3                   4370             Li-ion 0 days 00:00:03.239000  \n",
       "4                   4370             Li-ion 0 days 00:00:04.264000  "
      ]
     },
     "execution_count": 398,
     "metadata": {},
     "output_type": "execute_result"
    }
   ],
   "source": [
    "s21fe.head()"
   ]
  },
  {
   "attachments": {},
   "cell_type": "markdown",
   "metadata": {},
   "source": [
    "S21 FE Time vs Current Graph\n"
   ]
  },
  {
   "cell_type": "code",
   "execution_count": 399,
   "metadata": {},
   "outputs": [
    {
     "data": {
      "text/plain": [
       "'import datetime\\nimport pylab as plt\\nimport numpy as np\\nimport matplotlib\\n\\nfig = plt.figure()\\nax = fig.add_subplot(111)\\nx = np.linspace(0, 300)  # 5 minutes\\ny = np.random.random(len(x))\\nax.plot(x, y)\\nax.plot(x, y)\\n\\ndef timeTicks(x, pos):\\n    d = datetime.timedelta(seconds=x)\\n    return str(d)\\nformatter = matplotlib.ticker.FuncFormatter(timeTicks)\\nax.xaxis.set_major_formatter(formatter)\\nplt.show()\\n#It uses pythons timedelta. With 864000 seconds the above will result in \"10 days, 10:00:00\". You can of course stuff more advanced #formatting into the timeTicks() function above'"
      ]
     },
     "execution_count": 399,
     "metadata": {},
     "output_type": "execute_result"
    }
   ],
   "source": [
    "'''import datetime\n",
    "import pylab as plt\n",
    "import numpy as np\n",
    "import matplotlib\n",
    "\n",
    "fig = plt.figure()\n",
    "ax = fig.add_subplot(111)\n",
    "x = np.linspace(0, 300)  # 5 minutes\n",
    "y = np.random.random(len(x))\n",
    "ax.plot(x, y)\n",
    "ax.plot(x, y)\n",
    "\n",
    "def timeTicks(x, pos):\n",
    "    d = datetime.timedelta(seconds=x)\n",
    "    return str(d)\n",
    "formatter = matplotlib.ticker.FuncFormatter(timeTicks)\n",
    "ax.xaxis.set_major_formatter(formatter)\n",
    "plt.show()\n",
    "#It uses pythons timedelta. With 864000 seconds the above will result in \"10 days, 10:00:00\". You can of course stuff more advanced #formatting into the timeTicks() function above'''"
   ]
  },
  {
   "cell_type": "code",
   "execution_count": 400,
   "metadata": {},
   "outputs": [
    {
     "data": {
      "text/plain": [
       "Text(0, 0.5, 'Current (mA)')"
      ]
     },
     "execution_count": 400,
     "metadata": {},
     "output_type": "execute_result"
    },
    {
     "data": {
      "image/png": "[encoded data removed]",
      "text/plain": [
       "<Figure size 432x288 with 1 Axes>"
      ]
     },
     "metadata": {
      "needs_background": "light"
     },
     "output_type": "display_data"
    }
   ],
   "source": [
    "x = s21fe[\"time_elasped\"]\n",
    "y = s21fe[\"current(mA)\"]\n",
    "plt.plot(x, y)\n",
    "plt.xlabel(\"Time\")\n",
    "plt.ylabel(\"Current (mA)\")"
   ]
  },
  {
   "attachments": {},
   "cell_type": "markdown",
   "metadata": {},
   "source": [
    "S21 FE Time vs Voltage Graph\n"
   ]
  },
  {
   "cell_type": "code",
   "execution_count": 401,
   "metadata": {},
   "outputs": [
    {
     "data": {
      "text/plain": [
       "Text(0, 0.5, 'Voltage(V)')"
      ]
     },
     "execution_count": 401,
     "metadata": {},
     "output_type": "execute_result"
    },
    {
     "data": {
      "image/png": "[encoded data removed]",
      "text/plain": [
       "<Figure size 432x288 with 1 Axes>"
      ]
     },
     "metadata": {
      "needs_background": "light"
     },
     "output_type": "display_data"
    }
   ],
   "source": [
    "x = s21fe[\"time_elasped\"]\n",
    "y = s21fe[\"voltage(V)\"]\n",
    "plt.plot(x, y)\n",
    "plt.xlabel(\"Time\")\n",
    "plt.ylabel(\"Voltage(V)\")"
   ]
  },
  {
   "attachments": {},
   "cell_type": "markdown",
   "metadata": {},
   "source": [
    "S21 FE Time vs Power Graph\n"
   ]
  },
  {
   "cell_type": "code",
   "execution_count": 402,
   "metadata": {},
   "outputs": [
    {
     "data": {
      "text/plain": [
       "Text(0, 0.5, 'Power(W)')"
      ]
     },
     "execution_count": 402,
     "metadata": {},
     "output_type": "execute_result"
    },
    {
     "data": {
      "image/png": "[encoded data removed]",
      "text/plain": [
       "<Figure size 432x288 with 1 Axes>"
      ]
     },
     "metadata": {
      "needs_background": "light"
     },
     "output_type": "display_data"
    }
   ],
   "source": [
    "x = s21fe[\"time_elasped\"]\n",
    "y = s21fe[\"power(W)\"]\n",
    "plt.plot(x, y)\n",
    "plt.xlabel(\"Time\")\n",
    "plt.ylabel(\"Power(W)\")"
   ]
  },
  {
   "attachments": {},
   "cell_type": "markdown",
   "metadata": {},
   "source": [
    "S21 FE Time vs Temperature Graph\n"
   ]
  },
  {
   "cell_type": "code",
   "execution_count": 403,
   "metadata": {},
   "outputs": [
    {
     "data": {
      "text/plain": [
       "Text(0, 0.5, 'temperature(Celsius)')"
      ]
     },
     "execution_count": 403,
     "metadata": {},
     "output_type": "execute_result"
    },
    {
     "data": {
      "image/png": "[encoded data removed]",
      "text/plain": [
       "<Figure size 432x288 with 1 Axes>"
      ]
     },
     "metadata": {
      "needs_background": "light"
     },
     "output_type": "display_data"
    }
   ],
   "source": [
    "x = s21fe[\"time_elasped\"]\n",
    "y = s21fe[\"battery_temperature(Celsius)\"]\n",
    "plt.plot(x, y)\n",
    "plt.xlabel(\"Time\")\n",
    "plt.ylabel(\"temperature(Celsius)\")"
   ]
  },
  {
   "attachments": {},
   "cell_type": "markdown",
   "metadata": {},
   "source": [
    "S21 FE Time vs SOC Graph\n"
   ]
  },
  {
   "cell_type": "code",
   "execution_count": 404,
   "metadata": {},
   "outputs": [
    {
     "data": {
      "text/plain": [
       "Text(0, 0.5, 'Battery level')"
      ]
     },
     "execution_count": 404,
     "metadata": {},
     "output_type": "execute_result"
    },
    {
     "data": {
      "image/png": "[encoded data removed]",
      "text/plain": [
       "<Figure size 432x288 with 1 Axes>"
      ]
     },
     "metadata": {
      "needs_background": "light"
     },
     "output_type": "display_data"
    }
   ],
   "source": [
    "x = s21fe[\"time_elasped\"]\n",
    "y = s21fe[\"battery_percent\"]\n",
    "plt.plot(x, y)\n",
    "plt.xlabel(\"Time Stamp\")\n",
    "plt.ylabel(\"Battery level\")"
   ]
  },
  {
   "attachments": {},
   "cell_type": "markdown",
   "metadata": {},
   "source": [
    "Samsung A70 Time vs Current Graph\n"
   ]
  },
  {
   "cell_type": "code",
   "execution_count": 405,
   "metadata": {},
   "outputs": [
    {
     "data": {
      "text/plain": [
       "Text(0, 0.5, 'Current (mA)')"
      ]
     },
     "execution_count": 405,
     "metadata": {},
     "output_type": "execute_result"
    },
    {
     "data": {
      "image/png": "[encoded data removed]",
      "text/plain": [
       "<Figure size 432x288 with 1 Axes>"
      ]
     },
     "metadata": {
      "needs_background": "light"
     },
     "output_type": "display_data"
    }
   ],
   "source": [
    "x = a70[\"time_elasped\"]\n",
    "y = a70[\"current(mA)\"]\n",
    "plt.plot(x, y)\n",
    "plt.xlabel(\"Time\")\n",
    "plt.ylabel(\"Current (mA)\")"
   ]
  },
  {
   "attachments": {},
   "cell_type": "markdown",
   "metadata": {},
   "source": [
    "Pixel 6A Time vs Current Graph\n"
   ]
  },
  {
   "cell_type": "code",
   "execution_count": 406,
   "metadata": {},
   "outputs": [
    {
     "data": {
      "text/plain": [
       "Text(0, 0.5, 'Current (mA)')"
      ]
     },
     "execution_count": 406,
     "metadata": {},
     "output_type": "execute_result"
    },
    {
     "data": {
      "image/png": "[encoded data removed]",
      "text/plain": [
       "<Figure size 432x288 with 1 Axes>"
      ]
     },
     "metadata": {
      "needs_background": "light"
     },
     "output_type": "display_data"
    }
   ],
   "source": [
    "x = pixel6a[\"time_elasped\"]\n",
    "y = pixel6a[\"current(mA)\"]\n",
    "plt.plot(x, y)\n",
    "plt.xlabel(\"Time\")\n",
    "plt.ylabel(\"Current (mA)\")"
   ]
  },
  {
   "attachments": {},
   "cell_type": "markdown",
   "metadata": {},
   "source": [
    "Shape of all four phones\n"
   ]
  },
  {
   "cell_type": "code",
   "execution_count": 407,
   "metadata": {},
   "outputs": [
    {
     "data": {
      "text/plain": [
       "(3034, 10)"
      ]
     },
     "execution_count": 407,
     "metadata": {},
     "output_type": "execute_result"
    }
   ],
   "source": [
    "pixel6a.shape"
   ]
  },
  {
   "cell_type": "code",
   "execution_count": 408,
   "metadata": {},
   "outputs": [
    {
     "data": {
      "text/plain": [
       "(4684, 10)"
      ]
     },
     "execution_count": 408,
     "metadata": {},
     "output_type": "execute_result"
    }
   ],
   "source": [
    "a70.shape"
   ]
  },
  {
   "cell_type": "code",
   "execution_count": 409,
   "metadata": {},
   "outputs": [
    {
     "data": {
      "text/plain": [
       "(4326, 10)"
      ]
     },
     "execution_count": 409,
     "metadata": {},
     "output_type": "execute_result"
    }
   ],
   "source": [
    "s21fe.shape"
   ]
  },
  {
   "cell_type": "code",
   "execution_count": 410,
   "metadata": {},
   "outputs": [
    {
     "data": {
      "text/plain": [
       "(2797, 10)"
      ]
     },
     "execution_count": 410,
     "metadata": {},
     "output_type": "execute_result"
    }
   ],
   "source": [
    "pixel4a.shape"
   ]
  },
  {
   "attachments": {},
   "cell_type": "markdown",
   "metadata": {},
   "source": [
    "Max temp the phone reached while charging\n"
   ]
  },
  {
   "cell_type": "code",
   "execution_count": 411,
   "metadata": {},
   "outputs": [
    {
     "name": "stdout",
     "output_type": "stream",
     "text": [
      "A70 Max Temp 40.1\n",
      "S21FE Max Temp 41.7\n",
      "Pixel 6A Max Temp 42.7\n",
      "Pixel 4A Max Temp 41.4\n"
     ]
    }
   ],
   "source": [
    "print(\"A70 Max Temp\", a70[\"battery_temperature(Celsius)\"].max())\n",
    "print(\"S21FE Max Temp\", s21fe[\"battery_temperature(Celsius)\"].max())\n",
    "print(\"Pixel 6A Max Temp\", pixel6a[\"battery_temperature(Celsius)\"].max())\n",
    "print(\"Pixel 4A Max Temp\", pixel4a[\"battery_temperature(Celsius)\"].max())"
   ]
  },
  {
   "attachments": {},
   "cell_type": "markdown",
   "metadata": {},
   "source": [
    "Correlation\n"
   ]
  },
  {
   "cell_type": "code",
   "execution_count": 412,
   "metadata": {},
   "outputs": [
    {
     "data": {
      "text/html": [
       "<div>\n",
       "<style scoped>\n",
       "    .dataframe tbody tr th:only-of-type {\n",
       "        vertical-align: middle;\n",
       "    }\n",
       "\n",
       "    .dataframe tbody tr th {\n",
       "        vertical-align: top;\n",
       "    }\n",
       "\n",
       "    .dataframe thead th {\n",
       "        text-align: right;\n",
       "    }\n",
       "</style>\n",
       "<table border=\"1\" class=\"dataframe\">\n",
       "  <thead>\n",
       "    <tr style=\"text-align: right;\">\n",
       "      <th></th>\n",
       "      <th>voltage(V)</th>\n",
       "      <th>current(mA)</th>\n",
       "      <th>power(W)</th>\n",
       "      <th>battery_percent</th>\n",
       "      <th>battery_temperature(Celsius)</th>\n",
       "      <th>remaining_battery_charge(mAh)</th>\n",
       "      <th>battery_capacity(mAh)</th>\n",
       "    </tr>\n",
       "  </thead>\n",
       "  <tbody>\n",
       "    <tr>\n",
       "      <th>voltage(V)</th>\n",
       "      <td>1.000000</td>\n",
       "      <td>-0.870730</td>\n",
       "      <td>-0.842785</td>\n",
       "      <td>0.963742</td>\n",
       "      <td>-0.715188</td>\n",
       "      <td>0.964806</td>\n",
       "      <td>NaN</td>\n",
       "    </tr>\n",
       "    <tr>\n",
       "      <th>current(mA)</th>\n",
       "      <td>-0.870730</td>\n",
       "      <td>1.000000</td>\n",
       "      <td>0.998297</td>\n",
       "      <td>-0.940408</td>\n",
       "      <td>0.919439</td>\n",
       "      <td>-0.938282</td>\n",
       "      <td>NaN</td>\n",
       "    </tr>\n",
       "    <tr>\n",
       "      <th>power(W)</th>\n",
       "      <td>-0.842785</td>\n",
       "      <td>0.998297</td>\n",
       "      <td>1.000000</td>\n",
       "      <td>-0.921665</td>\n",
       "      <td>0.934455</td>\n",
       "      <td>-0.919165</td>\n",
       "      <td>NaN</td>\n",
       "    </tr>\n",
       "    <tr>\n",
       "      <th>battery_percent</th>\n",
       "      <td>0.963742</td>\n",
       "      <td>-0.940408</td>\n",
       "      <td>-0.921665</td>\n",
       "      <td>1.000000</td>\n",
       "      <td>-0.803125</td>\n",
       "      <td>0.999790</td>\n",
       "      <td>NaN</td>\n",
       "    </tr>\n",
       "    <tr>\n",
       "      <th>battery_temperature(Celsius)</th>\n",
       "      <td>-0.715188</td>\n",
       "      <td>0.919439</td>\n",
       "      <td>0.934455</td>\n",
       "      <td>-0.803125</td>\n",
       "      <td>1.000000</td>\n",
       "      <td>-0.799799</td>\n",
       "      <td>NaN</td>\n",
       "    </tr>\n",
       "    <tr>\n",
       "      <th>remaining_battery_charge(mAh)</th>\n",
       "      <td>0.964806</td>\n",
       "      <td>-0.938282</td>\n",
       "      <td>-0.919165</td>\n",
       "      <td>0.999790</td>\n",
       "      <td>-0.799799</td>\n",
       "      <td>1.000000</td>\n",
       "      <td>NaN</td>\n",
       "    </tr>\n",
       "    <tr>\n",
       "      <th>battery_capacity(mAh)</th>\n",
       "      <td>NaN</td>\n",
       "      <td>NaN</td>\n",
       "      <td>NaN</td>\n",
       "      <td>NaN</td>\n",
       "      <td>NaN</td>\n",
       "      <td>NaN</td>\n",
       "      <td>NaN</td>\n",
       "    </tr>\n",
       "  </tbody>\n",
       "</table>\n",
       "</div>"
      ],
      "text/plain": [
       "                               voltage(V)  current(mA)  power(W)  \\\n",
       "voltage(V)                       1.000000    -0.870730 -0.842785   \n",
       "current(mA)                     -0.870730     1.000000  0.998297   \n",
       "power(W)                        -0.842785     0.998297  1.000000   \n",
       "battery_percent                  0.963742    -0.940408 -0.921665   \n",
       "battery_temperature(Celsius)    -0.715188     0.919439  0.934455   \n",
       "remaining_battery_charge(mAh)    0.964806    -0.938282 -0.919165   \n",
       "battery_capacity(mAh)                 NaN          NaN       NaN   \n",
       "\n",
       "                               battery_percent  battery_temperature(Celsius)  \\\n",
       "voltage(V)                            0.963742                     -0.715188   \n",
       "current(mA)                          -0.940408                      0.919439   \n",
       "power(W)                             -0.921665                      0.934455   \n",
       "battery_percent                       1.000000                     -0.803125   \n",
       "battery_temperature(Celsius)         -0.803125                      1.000000   \n",
       "remaining_battery_charge(mAh)         0.999790                     -0.799799   \n",
       "battery_capacity(mAh)                      NaN                           NaN   \n",
       "\n",
       "                               remaining_battery_charge(mAh)  \\\n",
       "voltage(V)                                          0.964806   \n",
       "current(mA)                                        -0.938282   \n",
       "power(W)                                           -0.919165   \n",
       "battery_percent                                     0.999790   \n",
       "battery_temperature(Celsius)                       -0.799799   \n",
       "remaining_battery_charge(mAh)                       1.000000   \n",
       "battery_capacity(mAh)                                    NaN   \n",
       "\n",
       "                               battery_capacity(mAh)  \n",
       "voltage(V)                                       NaN  \n",
       "current(mA)                                      NaN  \n",
       "power(W)                                         NaN  \n",
       "battery_percent                                  NaN  \n",
       "battery_temperature(Celsius)                     NaN  \n",
       "remaining_battery_charge(mAh)                    NaN  \n",
       "battery_capacity(mAh)                            NaN  "
      ]
     },
     "execution_count": 412,
     "metadata": {},
     "output_type": "execute_result"
    }
   ],
   "source": [
    "pixel6a.corr()"
   ]
  },
  {
   "cell_type": "code",
   "execution_count": 413,
   "metadata": {},
   "outputs": [
    {
     "data": {
      "text/html": [
       "<div>\n",
       "<style scoped>\n",
       "    .dataframe tbody tr th:only-of-type {\n",
       "        vertical-align: middle;\n",
       "    }\n",
       "\n",
       "    .dataframe tbody tr th {\n",
       "        vertical-align: top;\n",
       "    }\n",
       "\n",
       "    .dataframe thead th {\n",
       "        text-align: right;\n",
       "    }\n",
       "</style>\n",
       "<table border=\"1\" class=\"dataframe\">\n",
       "  <thead>\n",
       "    <tr style=\"text-align: right;\">\n",
       "      <th></th>\n",
       "      <th>voltage(V)</th>\n",
       "      <th>current(mA)</th>\n",
       "      <th>power(W)</th>\n",
       "      <th>battery_percent</th>\n",
       "      <th>battery_temperature(Celsius)</th>\n",
       "      <th>remaining_battery_charge(mAh)</th>\n",
       "      <th>battery_capacity(mAh)</th>\n",
       "    </tr>\n",
       "  </thead>\n",
       "  <tbody>\n",
       "    <tr>\n",
       "      <th>voltage(V)</th>\n",
       "      <td>1.000000</td>\n",
       "      <td>0.089523</td>\n",
       "      <td>0.143877</td>\n",
       "      <td>0.796126</td>\n",
       "      <td>0.623885</td>\n",
       "      <td>0.794125</td>\n",
       "      <td>NaN</td>\n",
       "    </tr>\n",
       "    <tr>\n",
       "      <th>current(mA)</th>\n",
       "      <td>0.089523</td>\n",
       "      <td>1.000000</td>\n",
       "      <td>0.998249</td>\n",
       "      <td>-0.491587</td>\n",
       "      <td>0.178653</td>\n",
       "      <td>-0.497182</td>\n",
       "      <td>NaN</td>\n",
       "    </tr>\n",
       "    <tr>\n",
       "      <th>power(W)</th>\n",
       "      <td>0.143877</td>\n",
       "      <td>0.998249</td>\n",
       "      <td>1.000000</td>\n",
       "      <td>-0.442236</td>\n",
       "      <td>0.222217</td>\n",
       "      <td>-0.448133</td>\n",
       "      <td>NaN</td>\n",
       "    </tr>\n",
       "    <tr>\n",
       "      <th>battery_percent</th>\n",
       "      <td>0.796126</td>\n",
       "      <td>-0.491587</td>\n",
       "      <td>-0.442236</td>\n",
       "      <td>1.000000</td>\n",
       "      <td>0.548940</td>\n",
       "      <td>0.999433</td>\n",
       "      <td>NaN</td>\n",
       "    </tr>\n",
       "    <tr>\n",
       "      <th>battery_temperature(Celsius)</th>\n",
       "      <td>0.623885</td>\n",
       "      <td>0.178653</td>\n",
       "      <td>0.222217</td>\n",
       "      <td>0.548940</td>\n",
       "      <td>1.000000</td>\n",
       "      <td>0.533648</td>\n",
       "      <td>NaN</td>\n",
       "    </tr>\n",
       "    <tr>\n",
       "      <th>remaining_battery_charge(mAh)</th>\n",
       "      <td>0.794125</td>\n",
       "      <td>-0.497182</td>\n",
       "      <td>-0.448133</td>\n",
       "      <td>0.999433</td>\n",
       "      <td>0.533648</td>\n",
       "      <td>1.000000</td>\n",
       "      <td>NaN</td>\n",
       "    </tr>\n",
       "    <tr>\n",
       "      <th>battery_capacity(mAh)</th>\n",
       "      <td>NaN</td>\n",
       "      <td>NaN</td>\n",
       "      <td>NaN</td>\n",
       "      <td>NaN</td>\n",
       "      <td>NaN</td>\n",
       "      <td>NaN</td>\n",
       "      <td>NaN</td>\n",
       "    </tr>\n",
       "  </tbody>\n",
       "</table>\n",
       "</div>"
      ],
      "text/plain": [
       "                               voltage(V)  current(mA)  power(W)  \\\n",
       "voltage(V)                       1.000000     0.089523  0.143877   \n",
       "current(mA)                      0.089523     1.000000  0.998249   \n",
       "power(W)                         0.143877     0.998249  1.000000   \n",
       "battery_percent                  0.796126    -0.491587 -0.442236   \n",
       "battery_temperature(Celsius)     0.623885     0.178653  0.222217   \n",
       "remaining_battery_charge(mAh)    0.794125    -0.497182 -0.448133   \n",
       "battery_capacity(mAh)                 NaN          NaN       NaN   \n",
       "\n",
       "                               battery_percent  battery_temperature(Celsius)  \\\n",
       "voltage(V)                            0.796126                      0.623885   \n",
       "current(mA)                          -0.491587                      0.178653   \n",
       "power(W)                             -0.442236                      0.222217   \n",
       "battery_percent                       1.000000                      0.548940   \n",
       "battery_temperature(Celsius)          0.548940                      1.000000   \n",
       "remaining_battery_charge(mAh)         0.999433                      0.533648   \n",
       "battery_capacity(mAh)                      NaN                           NaN   \n",
       "\n",
       "                               remaining_battery_charge(mAh)  \\\n",
       "voltage(V)                                          0.794125   \n",
       "current(mA)                                        -0.497182   \n",
       "power(W)                                           -0.448133   \n",
       "battery_percent                                     0.999433   \n",
       "battery_temperature(Celsius)                        0.533648   \n",
       "remaining_battery_charge(mAh)                       1.000000   \n",
       "battery_capacity(mAh)                                    NaN   \n",
       "\n",
       "                               battery_capacity(mAh)  \n",
       "voltage(V)                                       NaN  \n",
       "current(mA)                                      NaN  \n",
       "power(W)                                         NaN  \n",
       "battery_percent                                  NaN  \n",
       "battery_temperature(Celsius)                     NaN  \n",
       "remaining_battery_charge(mAh)                    NaN  \n",
       "battery_capacity(mAh)                            NaN  "
      ]
     },
     "execution_count": 413,
     "metadata": {},
     "output_type": "execute_result"
    }
   ],
   "source": [
    "a70.corr()"
   ]
  },
  {
   "cell_type": "code",
   "execution_count": 414,
   "metadata": {},
   "outputs": [
    {
     "data": {
      "text/html": [
       "<div>\n",
       "<style scoped>\n",
       "    .dataframe tbody tr th:only-of-type {\n",
       "        vertical-align: middle;\n",
       "    }\n",
       "\n",
       "    .dataframe tbody tr th {\n",
       "        vertical-align: top;\n",
       "    }\n",
       "\n",
       "    .dataframe thead th {\n",
       "        text-align: right;\n",
       "    }\n",
       "</style>\n",
       "<table border=\"1\" class=\"dataframe\">\n",
       "  <thead>\n",
       "    <tr style=\"text-align: right;\">\n",
       "      <th></th>\n",
       "      <th>voltage(V)</th>\n",
       "      <th>current(mA)</th>\n",
       "      <th>power(W)</th>\n",
       "      <th>battery_percent</th>\n",
       "      <th>battery_temperature(Celsius)</th>\n",
       "      <th>remaining_battery_charge(mAh)</th>\n",
       "      <th>battery_capacity(mAh)</th>\n",
       "    </tr>\n",
       "  </thead>\n",
       "  <tbody>\n",
       "    <tr>\n",
       "      <th>voltage(V)</th>\n",
       "      <td>1.000000</td>\n",
       "      <td>-0.339324</td>\n",
       "      <td>-0.256339</td>\n",
       "      <td>0.921692</td>\n",
       "      <td>-0.382719</td>\n",
       "      <td>0.921835</td>\n",
       "      <td>NaN</td>\n",
       "    </tr>\n",
       "    <tr>\n",
       "      <th>current(mA)</th>\n",
       "      <td>-0.339324</td>\n",
       "      <td>1.000000</td>\n",
       "      <td>0.995322</td>\n",
       "      <td>-0.601632</td>\n",
       "      <td>0.335730</td>\n",
       "      <td>-0.602592</td>\n",
       "      <td>NaN</td>\n",
       "    </tr>\n",
       "    <tr>\n",
       "      <th>power(W)</th>\n",
       "      <td>-0.256339</td>\n",
       "      <td>0.995322</td>\n",
       "      <td>1.000000</td>\n",
       "      <td>-0.529183</td>\n",
       "      <td>0.330776</td>\n",
       "      <td>-0.530147</td>\n",
       "      <td>NaN</td>\n",
       "    </tr>\n",
       "    <tr>\n",
       "      <th>battery_percent</th>\n",
       "      <td>0.921692</td>\n",
       "      <td>-0.601632</td>\n",
       "      <td>-0.529183</td>\n",
       "      <td>1.000000</td>\n",
       "      <td>-0.409813</td>\n",
       "      <td>0.999938</td>\n",
       "      <td>NaN</td>\n",
       "    </tr>\n",
       "    <tr>\n",
       "      <th>battery_temperature(Celsius)</th>\n",
       "      <td>-0.382719</td>\n",
       "      <td>0.335730</td>\n",
       "      <td>0.330776</td>\n",
       "      <td>-0.409813</td>\n",
       "      <td>1.000000</td>\n",
       "      <td>-0.408841</td>\n",
       "      <td>NaN</td>\n",
       "    </tr>\n",
       "    <tr>\n",
       "      <th>remaining_battery_charge(mAh)</th>\n",
       "      <td>0.921835</td>\n",
       "      <td>-0.602592</td>\n",
       "      <td>-0.530147</td>\n",
       "      <td>0.999938</td>\n",
       "      <td>-0.408841</td>\n",
       "      <td>1.000000</td>\n",
       "      <td>NaN</td>\n",
       "    </tr>\n",
       "    <tr>\n",
       "      <th>battery_capacity(mAh)</th>\n",
       "      <td>NaN</td>\n",
       "      <td>NaN</td>\n",
       "      <td>NaN</td>\n",
       "      <td>NaN</td>\n",
       "      <td>NaN</td>\n",
       "      <td>NaN</td>\n",
       "      <td>NaN</td>\n",
       "    </tr>\n",
       "  </tbody>\n",
       "</table>\n",
       "</div>"
      ],
      "text/plain": [
       "                               voltage(V)  current(mA)  power(W)  \\\n",
       "voltage(V)                       1.000000    -0.339324 -0.256339   \n",
       "current(mA)                     -0.339324     1.000000  0.995322   \n",
       "power(W)                        -0.256339     0.995322  1.000000   \n",
       "battery_percent                  0.921692    -0.601632 -0.529183   \n",
       "battery_temperature(Celsius)    -0.382719     0.335730  0.330776   \n",
       "remaining_battery_charge(mAh)    0.921835    -0.602592 -0.530147   \n",
       "battery_capacity(mAh)                 NaN          NaN       NaN   \n",
       "\n",
       "                               battery_percent  battery_temperature(Celsius)  \\\n",
       "voltage(V)                            0.921692                     -0.382719   \n",
       "current(mA)                          -0.601632                      0.335730   \n",
       "power(W)                             -0.529183                      0.330776   \n",
       "battery_percent                       1.000000                     -0.409813   \n",
       "battery_temperature(Celsius)         -0.409813                      1.000000   \n",
       "remaining_battery_charge(mAh)         0.999938                     -0.408841   \n",
       "battery_capacity(mAh)                      NaN                           NaN   \n",
       "\n",
       "                               remaining_battery_charge(mAh)  \\\n",
       "voltage(V)                                          0.921835   \n",
       "current(mA)                                        -0.602592   \n",
       "power(W)                                           -0.530147   \n",
       "battery_percent                                     0.999938   \n",
       "battery_temperature(Celsius)                       -0.408841   \n",
       "remaining_battery_charge(mAh)                       1.000000   \n",
       "battery_capacity(mAh)                                    NaN   \n",
       "\n",
       "                               battery_capacity(mAh)  \n",
       "voltage(V)                                       NaN  \n",
       "current(mA)                                      NaN  \n",
       "power(W)                                         NaN  \n",
       "battery_percent                                  NaN  \n",
       "battery_temperature(Celsius)                     NaN  \n",
       "remaining_battery_charge(mAh)                    NaN  \n",
       "battery_capacity(mAh)                            NaN  "
      ]
     },
     "execution_count": 414,
     "metadata": {},
     "output_type": "execute_result"
    }
   ],
   "source": [
    "s21fe.corr()"
   ]
  },
  {
   "cell_type": "code",
   "execution_count": 415,
   "metadata": {},
   "outputs": [
    {
     "data": {
      "text/html": [
       "<div>\n",
       "<style scoped>\n",
       "    .dataframe tbody tr th:only-of-type {\n",
       "        vertical-align: middle;\n",
       "    }\n",
       "\n",
       "    .dataframe tbody tr th {\n",
       "        vertical-align: top;\n",
       "    }\n",
       "\n",
       "    .dataframe thead th {\n",
       "        text-align: right;\n",
       "    }\n",
       "</style>\n",
       "<table border=\"1\" class=\"dataframe\">\n",
       "  <thead>\n",
       "    <tr style=\"text-align: right;\">\n",
       "      <th></th>\n",
       "      <th>voltage(V)</th>\n",
       "      <th>current(mA)</th>\n",
       "      <th>power(W)</th>\n",
       "      <th>battery_percent</th>\n",
       "      <th>battery_temperature(Celsius)</th>\n",
       "      <th>remaining_battery_charge(mAh)</th>\n",
       "      <th>battery_capacity(mAh)</th>\n",
       "    </tr>\n",
       "  </thead>\n",
       "  <tbody>\n",
       "    <tr>\n",
       "      <th>voltage(V)</th>\n",
       "      <td>1.000000</td>\n",
       "      <td>-0.725574</td>\n",
       "      <td>-0.670513</td>\n",
       "      <td>0.953388</td>\n",
       "      <td>-0.464185</td>\n",
       "      <td>0.958135</td>\n",
       "      <td>NaN</td>\n",
       "    </tr>\n",
       "    <tr>\n",
       "      <th>current(mA)</th>\n",
       "      <td>-0.725574</td>\n",
       "      <td>1.000000</td>\n",
       "      <td>0.996129</td>\n",
       "      <td>-0.845376</td>\n",
       "      <td>0.606266</td>\n",
       "      <td>-0.847621</td>\n",
       "      <td>NaN</td>\n",
       "    </tr>\n",
       "    <tr>\n",
       "      <th>power(W)</th>\n",
       "      <td>-0.670513</td>\n",
       "      <td>0.996129</td>\n",
       "      <td>1.000000</td>\n",
       "      <td>-0.797682</td>\n",
       "      <td>0.634150</td>\n",
       "      <td>-0.800653</td>\n",
       "      <td>NaN</td>\n",
       "    </tr>\n",
       "    <tr>\n",
       "      <th>battery_percent</th>\n",
       "      <td>0.953388</td>\n",
       "      <td>-0.845376</td>\n",
       "      <td>-0.797682</td>\n",
       "      <td>1.000000</td>\n",
       "      <td>-0.416518</td>\n",
       "      <td>0.999502</td>\n",
       "      <td>NaN</td>\n",
       "    </tr>\n",
       "    <tr>\n",
       "      <th>battery_temperature(Celsius)</th>\n",
       "      <td>-0.464185</td>\n",
       "      <td>0.606266</td>\n",
       "      <td>0.634150</td>\n",
       "      <td>-0.416518</td>\n",
       "      <td>1.000000</td>\n",
       "      <td>-0.436934</td>\n",
       "      <td>NaN</td>\n",
       "    </tr>\n",
       "    <tr>\n",
       "      <th>remaining_battery_charge(mAh)</th>\n",
       "      <td>0.958135</td>\n",
       "      <td>-0.847621</td>\n",
       "      <td>-0.800653</td>\n",
       "      <td>0.999502</td>\n",
       "      <td>-0.436934</td>\n",
       "      <td>1.000000</td>\n",
       "      <td>NaN</td>\n",
       "    </tr>\n",
       "    <tr>\n",
       "      <th>battery_capacity(mAh)</th>\n",
       "      <td>NaN</td>\n",
       "      <td>NaN</td>\n",
       "      <td>NaN</td>\n",
       "      <td>NaN</td>\n",
       "      <td>NaN</td>\n",
       "      <td>NaN</td>\n",
       "      <td>NaN</td>\n",
       "    </tr>\n",
       "  </tbody>\n",
       "</table>\n",
       "</div>"
      ],
      "text/plain": [
       "                               voltage(V)  current(mA)  power(W)  \\\n",
       "voltage(V)                       1.000000    -0.725574 -0.670513   \n",
       "current(mA)                     -0.725574     1.000000  0.996129   \n",
       "power(W)                        -0.670513     0.996129  1.000000   \n",
       "battery_percent                  0.953388    -0.845376 -0.797682   \n",
       "battery_temperature(Celsius)    -0.464185     0.606266  0.634150   \n",
       "remaining_battery_charge(mAh)    0.958135    -0.847621 -0.800653   \n",
       "battery_capacity(mAh)                 NaN          NaN       NaN   \n",
       "\n",
       "                               battery_percent  battery_temperature(Celsius)  \\\n",
       "voltage(V)                            0.953388                     -0.464185   \n",
       "current(mA)                          -0.845376                      0.606266   \n",
       "power(W)                             -0.797682                      0.634150   \n",
       "battery_percent                       1.000000                     -0.416518   \n",
       "battery_temperature(Celsius)         -0.416518                      1.000000   \n",
       "remaining_battery_charge(mAh)         0.999502                     -0.436934   \n",
       "battery_capacity(mAh)                      NaN                           NaN   \n",
       "\n",
       "                               remaining_battery_charge(mAh)  \\\n",
       "voltage(V)                                          0.958135   \n",
       "current(mA)                                        -0.847621   \n",
       "power(W)                                           -0.800653   \n",
       "battery_percent                                     0.999502   \n",
       "battery_temperature(Celsius)                       -0.436934   \n",
       "remaining_battery_charge(mAh)                       1.000000   \n",
       "battery_capacity(mAh)                                    NaN   \n",
       "\n",
       "                               battery_capacity(mAh)  \n",
       "voltage(V)                                       NaN  \n",
       "current(mA)                                      NaN  \n",
       "power(W)                                         NaN  \n",
       "battery_percent                                  NaN  \n",
       "battery_temperature(Celsius)                     NaN  \n",
       "remaining_battery_charge(mAh)                    NaN  \n",
       "battery_capacity(mAh)                            NaN  "
      ]
     },
     "execution_count": 415,
     "metadata": {},
     "output_type": "execute_result"
    }
   ],
   "source": [
    "pixel4a.corr()"
   ]
  }
 ],
 "metadata": {
  "kernelspec": {
   "display_name": "Python 3",
   "language": "python",
   "name": "python3"
  },
  "language_info": {
   "codemirror_mode": {
    "name": "ipython",
    "version": 3
   },
   "file_extension": ".py",
   "mimetype": "text/x-python",
   "name": "python",
   "nbconvert_exporter": "python",
   "pygments_lexer": "ipython3",
   "version": "3.10.6"
  },
  "orig_nbformat": 4
 },
 "nbformat": 4,
 "nbformat_minor": 2
}
