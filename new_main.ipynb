{
 "cells": [
  {
   "cell_type": "code",
   "execution_count": 116,
   "metadata": {},
   "outputs": [],
   "source": [
    "import pandas as pd\n",
    "import matplotlib.pyplot as plt\n"
   ]
  },
  {
   "cell_type": "code",
   "execution_count": 117,
   "metadata": {},
   "outputs": [],
   "source": [
    "s21fe = pd.read_csv(\"dataset/s21fe_data.csv\")\n",
    "pixel6a = pd.read_csv(\"dataset/pixel_6a.csv\")\n",
    "a70 = pd.read_csv(\"dataset/samsung_a70.csv\")\n"
   ]
  },
  {
   "cell_type": "code",
   "execution_count": 118,
   "metadata": {},
   "outputs": [
    {
     "data": {
      "text/plain": [
       "(143, 9)"
      ]
     },
     "execution_count": 118,
     "metadata": {},
     "output_type": "execute_result"
    }
   ],
   "source": [
    "s21fe.loc[s21fe[\"battery_percent\"] == 100].shape\n"
   ]
  },
  {
   "cell_type": "code",
   "execution_count": 119,
   "metadata": {},
   "outputs": [
    {
     "data": {
      "text/plain": [
       "(303, 9)"
      ]
     },
     "execution_count": 119,
     "metadata": {},
     "output_type": "execute_result"
    }
   ],
   "source": [
    "pixel6a.loc[pixel6a[\"battery_percent\"] == 100].shape"
   ]
  },
  {
   "cell_type": "code",
   "execution_count": 120,
   "metadata": {},
   "outputs": [
    {
     "data": {
      "text/plain": [
       "(7, 9)"
      ]
     },
     "execution_count": 120,
     "metadata": {},
     "output_type": "execute_result"
    }
   ],
   "source": [
    "a70.loc[a70[\"battery_percent\"] == 100].shape"
   ]
  },
  {
   "cell_type": "code",
   "execution_count": 121,
   "metadata": {},
   "outputs": [],
   "source": [
    "s21fe[\"timestamp\"] = pd.to_datetime(s21fe[\"timestamp\"])\n",
    "a70[\"timestamp\"] = pd.to_datetime(a70[\"timestamp\"])\n",
    "pixel6a[\"timestamp\"] = pd.to_datetime(pixel6a[\"timestamp\"])\n"
   ]
  },
  {
   "cell_type": "code",
   "execution_count": 122,
   "metadata": {},
   "outputs": [
    {
     "data": {
      "text/html": [
       "<div>\n",
       "<style scoped>\n",
       "    .dataframe tbody tr th:only-of-type {\n",
       "        vertical-align: middle;\n",
       "    }\n",
       "\n",
       "    .dataframe tbody tr th {\n",
       "        vertical-align: top;\n",
       "    }\n",
       "\n",
       "    .dataframe thead th {\n",
       "        text-align: right;\n",
       "    }\n",
       "</style>\n",
       "<table border=\"1\" class=\"dataframe\">\n",
       "  <thead>\n",
       "    <tr style=\"text-align: right;\">\n",
       "      <th></th>\n",
       "      <th>timestamp</th>\n",
       "      <th>voltage(V)</th>\n",
       "      <th>current(mA)</th>\n",
       "      <th>power(W)</th>\n",
       "      <th>battery_percent</th>\n",
       "      <th>battery_temperature(Celsius)</th>\n",
       "      <th>remaining_battery_charge(mAh)</th>\n",
       "      <th>battery_capacity(mAh)</th>\n",
       "      <th>battery_technology</th>\n",
       "    </tr>\n",
       "  </thead>\n",
       "  <tbody>\n",
       "    <tr>\n",
       "      <th>0</th>\n",
       "      <td>2023-04-13 13:05:45.846</td>\n",
       "      <td>3.36</td>\n",
       "      <td>1595</td>\n",
       "      <td>5.35920</td>\n",
       "      <td>1</td>\n",
       "      <td>37.1</td>\n",
       "      <td>0.0</td>\n",
       "      <td>4370</td>\n",
       "      <td>Li-ion</td>\n",
       "    </tr>\n",
       "    <tr>\n",
       "      <th>1</th>\n",
       "      <td>2023-04-13 13:05:47.004</td>\n",
       "      <td>3.36</td>\n",
       "      <td>1434</td>\n",
       "      <td>4.81824</td>\n",
       "      <td>1</td>\n",
       "      <td>37.1</td>\n",
       "      <td>0.0</td>\n",
       "      <td>4370</td>\n",
       "      <td>Li-ion</td>\n",
       "    </tr>\n",
       "    <tr>\n",
       "      <th>2</th>\n",
       "      <td>2023-04-13 13:05:48.050</td>\n",
       "      <td>3.36</td>\n",
       "      <td>565</td>\n",
       "      <td>1.89840</td>\n",
       "      <td>1</td>\n",
       "      <td>37.1</td>\n",
       "      <td>0.0</td>\n",
       "      <td>4370</td>\n",
       "      <td>Li-ion</td>\n",
       "    </tr>\n",
       "    <tr>\n",
       "      <th>3</th>\n",
       "      <td>2023-04-13 13:05:49.085</td>\n",
       "      <td>3.36</td>\n",
       "      <td>1654</td>\n",
       "      <td>5.55744</td>\n",
       "      <td>1</td>\n",
       "      <td>37.1</td>\n",
       "      <td>0.0</td>\n",
       "      <td>4370</td>\n",
       "      <td>Li-ion</td>\n",
       "    </tr>\n",
       "    <tr>\n",
       "      <th>4</th>\n",
       "      <td>2023-04-13 13:05:50.110</td>\n",
       "      <td>3.36</td>\n",
       "      <td>884</td>\n",
       "      <td>2.97024</td>\n",
       "      <td>1</td>\n",
       "      <td>37.1</td>\n",
       "      <td>0.0</td>\n",
       "      <td>4370</td>\n",
       "      <td>Li-ion</td>\n",
       "    </tr>\n",
       "  </tbody>\n",
       "</table>\n",
       "</div>"
      ],
      "text/plain": [
       "                timestamp  voltage(V)  current(mA)  power(W)  battery_percent  \\\n",
       "0 2023-04-13 13:05:45.846        3.36         1595   5.35920                1   \n",
       "1 2023-04-13 13:05:47.004        3.36         1434   4.81824                1   \n",
       "2 2023-04-13 13:05:48.050        3.36          565   1.89840                1   \n",
       "3 2023-04-13 13:05:49.085        3.36         1654   5.55744                1   \n",
       "4 2023-04-13 13:05:50.110        3.36          884   2.97024                1   \n",
       "\n",
       "   battery_temperature(Celsius)  remaining_battery_charge(mAh)  \\\n",
       "0                          37.1                            0.0   \n",
       "1                          37.1                            0.0   \n",
       "2                          37.1                            0.0   \n",
       "3                          37.1                            0.0   \n",
       "4                          37.1                            0.0   \n",
       "\n",
       "   battery_capacity(mAh) battery_technology  \n",
       "0                   4370             Li-ion  \n",
       "1                   4370             Li-ion  \n",
       "2                   4370             Li-ion  \n",
       "3                   4370             Li-ion  \n",
       "4                   4370             Li-ion  "
      ]
     },
     "execution_count": 122,
     "metadata": {},
     "output_type": "execute_result"
    }
   ],
   "source": [
    "s21fe.head()"
   ]
  },
  {
   "attachments": {},
   "cell_type": "markdown",
   "metadata": {},
   "source": [
    "S21 FE"
   ]
  },
  {
   "cell_type": "code",
   "execution_count": 123,
   "metadata": {},
   "outputs": [
    {
     "data": {
      "text/plain": [
       "Text(0, 0.5, 'Current (mA)')"
      ]
     },
     "execution_count": 123,
     "metadata": {},
     "output_type": "execute_result"
    },
    {
     "data": {
      "image/png": "[encoded data removed]",
      "text/plain": [
       "<Figure size 432x288 with 1 Axes>"
      ]
     },
     "metadata": {
      "needs_background": "light"
     },
     "output_type": "display_data"
    }
   ],
   "source": [
    "x = s21fe[\"timestamp\"]\n",
    "y = s21fe[\"current(mA)\"]\n",
    "plt.plot(x, y)\n",
    "plt.xlabel(\"Time Stamp\")\n",
    "plt.ylabel(\"Current (mA)\")"
   ]
  },
  {
   "cell_type": "code",
   "execution_count": 124,
   "metadata": {},
   "outputs": [
    {
     "data": {
      "text/plain": [
       "Text(0, 0.5, 'Voltage(V)')"
      ]
     },
     "execution_count": 124,
     "metadata": {},
     "output_type": "execute_result"
    },
    {
     "data": {
      "image/png": "[encoded data removed]",
      "text/plain": [
       "<Figure size 432x288 with 1 Axes>"
      ]
     },
     "metadata": {
      "needs_background": "light"
     },
     "output_type": "display_data"
    }
   ],
   "source": [
    "x = s21fe[\"timestamp\"]\n",
    "y = s21fe[\"voltage(V)\"]\n",
    "plt.plot(x, y)\n",
    "plt.xlabel(\"Time Stamp\")\n",
    "plt.ylabel(\"Voltage(V)\")"
   ]
  },
  {
   "cell_type": "code",
   "execution_count": 125,
   "metadata": {},
   "outputs": [
    {
     "data": {
      "text/plain": [
       "Text(0, 0.5, 'Power(W)')"
      ]
     },
     "execution_count": 125,
     "metadata": {},
     "output_type": "execute_result"
    },
    {
     "data": {
      "image/png": "[encoded data removed]",
      "text/plain": [
       "<Figure size 432x288 with 1 Axes>"
      ]
     },
     "metadata": {
      "needs_background": "light"
     },
     "output_type": "display_data"
    }
   ],
   "source": [
    "x = s21fe[\"timestamp\"]\n",
    "y = s21fe[\"power(W)\"]\n",
    "plt.plot(x, y)\n",
    "plt.xlabel(\"Time Stamp\")\n",
    "plt.ylabel(\"Power(W)\")"
   ]
  },
  {
   "cell_type": "code",
   "execution_count": 126,
   "metadata": {},
   "outputs": [
    {
     "data": {
      "text/plain": [
       "Text(0, 0.5, 'temperature(Celsius)')"
      ]
     },
     "execution_count": 126,
     "metadata": {},
     "output_type": "execute_result"
    },
    {
     "data": {
      "image/png": "[encoded data removed]",
      "text/plain": [
       "<Figure size 432x288 with 1 Axes>"
      ]
     },
     "metadata": {
      "needs_background": "light"
     },
     "output_type": "display_data"
    }
   ],
   "source": [
    "x = s21fe[\"timestamp\"]\n",
    "y = s21fe[\"battery_temperature(Celsius)\"]\n",
    "plt.plot(x, y)\n",
    "plt.xlabel(\"Time Stamp\")\n",
    "plt.ylabel(\"temperature(Celsius)\")"
   ]
  },
  {
   "cell_type": "code",
   "execution_count": 127,
   "metadata": {},
   "outputs": [
    {
     "data": {
      "text/plain": [
       "Text(0, 0.5, 'Battery level')"
      ]
     },
     "execution_count": 127,
     "metadata": {},
     "output_type": "execute_result"
    },
    {
     "data": {
      "image/png": "[encoded data removed]",
      "text/plain": [
       "<Figure size 432x288 with 1 Axes>"
      ]
     },
     "metadata": {
      "needs_background": "light"
     },
     "output_type": "display_data"
    }
   ],
   "source": [
    "x = s21fe[\"timestamp\"]\n",
    "y = s21fe[\"battery_percent\"]\n",
    "plt.plot(x, y)\n",
    "plt.xlabel(\"Time Stamp\")\n",
    "plt.ylabel(\"Battery level\")"
   ]
  },
  {
   "attachments": {},
   "cell_type": "markdown",
   "metadata": {},
   "source": [
    "Samsung A70"
   ]
  },
  {
   "cell_type": "code",
   "execution_count": 128,
   "metadata": {},
   "outputs": [
    {
     "data": {
      "text/plain": [
       "Text(0, 0.5, 'Current (mA)')"
      ]
     },
     "execution_count": 128,
     "metadata": {},
     "output_type": "execute_result"
    },
    {
     "data": {
      "image/png": "[encoded data removed]",
      "text/plain": [
       "<Figure size 432x288 with 1 Axes>"
      ]
     },
     "metadata": {
      "needs_background": "light"
     },
     "output_type": "display_data"
    }
   ],
   "source": [
    "x = a70[\"timestamp\"]\n",
    "y = a70[\"current(mA)\"]\n",
    "plt.plot(x, y)\n",
    "plt.xlabel(\"Time Stamp\")\n",
    "plt.ylabel(\"Current (mA)\")"
   ]
  },
  {
   "attachments": {},
   "cell_type": "markdown",
   "metadata": {},
   "source": [
    "Pixel 6A"
   ]
  },
  {
   "cell_type": "code",
   "execution_count": 129,
   "metadata": {},
   "outputs": [
    {
     "data": {
      "text/plain": [
       "Text(0, 0.5, 'Current (mA)')"
      ]
     },
     "execution_count": 129,
     "metadata": {},
     "output_type": "execute_result"
    },
    {
     "data": {
      "image/png": "[encoded data removed]",
      "text/plain": [
       "<Figure size 432x288 with 1 Axes>"
      ]
     },
     "metadata": {
      "needs_background": "light"
     },
     "output_type": "display_data"
    }
   ],
   "source": [
    "x = pixel6a[\"timestamp\"]\n",
    "y = pixel6a[\"current(mA)\"]\n",
    "plt.plot(x, y)\n",
    "plt.xlabel(\"Time Stamp\")\n",
    "plt.ylabel(\"Current (mA)\")"
   ]
  },
  {
   "attachments": {},
   "cell_type": "markdown",
   "metadata": {},
   "source": [
    "Shape of all three phones"
   ]
  },
  {
   "cell_type": "code",
   "execution_count": 130,
   "metadata": {},
   "outputs": [
    {
     "data": {
      "text/plain": [
       "(3332, 9)"
      ]
     },
     "execution_count": 130,
     "metadata": {},
     "output_type": "execute_result"
    }
   ],
   "source": [
    "pixel6a.shape"
   ]
  },
  {
   "cell_type": "code",
   "execution_count": 131,
   "metadata": {},
   "outputs": [
    {
     "data": {
      "text/plain": [
       "(4686, 9)"
      ]
     },
     "execution_count": 131,
     "metadata": {},
     "output_type": "execute_result"
    }
   ],
   "source": [
    "a70.shape"
   ]
  },
  {
   "cell_type": "code",
   "execution_count": 132,
   "metadata": {},
   "outputs": [
    {
     "data": {
      "text/plain": [
       "(4464, 9)"
      ]
     },
     "execution_count": 132,
     "metadata": {},
     "output_type": "execute_result"
    }
   ],
   "source": [
    "s21fe.shape"
   ]
  },
  {
   "cell_type": "code",
   "execution_count": 133,
   "metadata": {},
   "outputs": [
    {
     "name": "stdout",
     "output_type": "stream",
     "text": [
      "A70 Max Temp 40.1\n",
      "S21FE Max Temp 41.7\n",
      "Pixel 6A Max Temp 42.7\n"
     ]
    }
   ],
   "source": [
    "print(\"A70 Max Temp\", a70[\"battery_temperature(Celsius)\"].max())\n",
    "print(\"S21FE Max Temp\", s21fe[\"battery_temperature(Celsius)\"].max())\n",
    "print(\"Pixel 6A Max Temp\", pixel6a[\"battery_temperature(Celsius)\"].max())\n"
   ]
  },
  {
   "attachments": {},
   "cell_type": "markdown",
   "metadata": {},
   "source": [
    "Correlation"
   ]
  },
  {
   "cell_type": "code",
   "execution_count": 137,
   "metadata": {},
   "outputs": [
    {
     "data": {
      "text/html": [
       "<div>\n",
       "<style scoped>\n",
       "    .dataframe tbody tr th:only-of-type {\n",
       "        vertical-align: middle;\n",
       "    }\n",
       "\n",
       "    .dataframe tbody tr th {\n",
       "        vertical-align: top;\n",
       "    }\n",
       "\n",
       "    .dataframe thead th {\n",
       "        text-align: right;\n",
       "    }\n",
       "</style>\n",
       "<table border=\"1\" class=\"dataframe\">\n",
       "  <thead>\n",
       "    <tr style=\"text-align: right;\">\n",
       "      <th></th>\n",
       "      <th>voltage(V)</th>\n",
       "      <th>current(mA)</th>\n",
       "      <th>power(W)</th>\n",
       "      <th>battery_percent</th>\n",
       "      <th>battery_temperature(Celsius)</th>\n",
       "      <th>remaining_battery_charge(mAh)</th>\n",
       "      <th>battery_capacity(mAh)</th>\n",
       "    </tr>\n",
       "  </thead>\n",
       "  <tbody>\n",
       "    <tr>\n",
       "      <th>voltage(V)</th>\n",
       "      <td>1.000000</td>\n",
       "      <td>-0.868765</td>\n",
       "      <td>-0.841552</td>\n",
       "      <td>0.961953</td>\n",
       "      <td>-0.725914</td>\n",
       "      <td>0.964408</td>\n",
       "      <td>NaN</td>\n",
       "    </tr>\n",
       "    <tr>\n",
       "      <th>current(mA)</th>\n",
       "      <td>-0.868765</td>\n",
       "      <td>1.000000</td>\n",
       "      <td>0.998412</td>\n",
       "      <td>-0.943624</td>\n",
       "      <td>0.925130</td>\n",
       "      <td>-0.939750</td>\n",
       "      <td>NaN</td>\n",
       "    </tr>\n",
       "    <tr>\n",
       "      <th>power(W)</th>\n",
       "      <td>-0.841552</td>\n",
       "      <td>0.998412</td>\n",
       "      <td>1.000000</td>\n",
       "      <td>-0.925999</td>\n",
       "      <td>0.938359</td>\n",
       "      <td>-0.921439</td>\n",
       "      <td>NaN</td>\n",
       "    </tr>\n",
       "    <tr>\n",
       "      <th>battery_percent</th>\n",
       "      <td>0.961953</td>\n",
       "      <td>-0.943624</td>\n",
       "      <td>-0.925999</td>\n",
       "      <td>1.000000</td>\n",
       "      <td>-0.817088</td>\n",
       "      <td>0.999553</td>\n",
       "      <td>NaN</td>\n",
       "    </tr>\n",
       "    <tr>\n",
       "      <th>battery_temperature(Celsius)</th>\n",
       "      <td>-0.725914</td>\n",
       "      <td>0.925130</td>\n",
       "      <td>0.938359</td>\n",
       "      <td>-0.817088</td>\n",
       "      <td>1.000000</td>\n",
       "      <td>-0.812513</td>\n",
       "      <td>NaN</td>\n",
       "    </tr>\n",
       "    <tr>\n",
       "      <th>remaining_battery_charge(mAh)</th>\n",
       "      <td>0.964408</td>\n",
       "      <td>-0.939750</td>\n",
       "      <td>-0.921439</td>\n",
       "      <td>0.999553</td>\n",
       "      <td>-0.812513</td>\n",
       "      <td>1.000000</td>\n",
       "      <td>NaN</td>\n",
       "    </tr>\n",
       "    <tr>\n",
       "      <th>battery_capacity(mAh)</th>\n",
       "      <td>NaN</td>\n",
       "      <td>NaN</td>\n",
       "      <td>NaN</td>\n",
       "      <td>NaN</td>\n",
       "      <td>NaN</td>\n",
       "      <td>NaN</td>\n",
       "      <td>NaN</td>\n",
       "    </tr>\n",
       "  </tbody>\n",
       "</table>\n",
       "</div>"
      ],
      "text/plain": [
       "                               voltage(V)  current(mA)  power(W)  \\\n",
       "voltage(V)                       1.000000    -0.868765 -0.841552   \n",
       "current(mA)                     -0.868765     1.000000  0.998412   \n",
       "power(W)                        -0.841552     0.998412  1.000000   \n",
       "battery_percent                  0.961953    -0.943624 -0.925999   \n",
       "battery_temperature(Celsius)    -0.725914     0.925130  0.938359   \n",
       "remaining_battery_charge(mAh)    0.964408    -0.939750 -0.921439   \n",
       "battery_capacity(mAh)                 NaN          NaN       NaN   \n",
       "\n",
       "                               battery_percent  battery_temperature(Celsius)  \\\n",
       "voltage(V)                            0.961953                     -0.725914   \n",
       "current(mA)                          -0.943624                      0.925130   \n",
       "power(W)                             -0.925999                      0.938359   \n",
       "battery_percent                       1.000000                     -0.817088   \n",
       "battery_temperature(Celsius)         -0.817088                      1.000000   \n",
       "remaining_battery_charge(mAh)         0.999553                     -0.812513   \n",
       "battery_capacity(mAh)                      NaN                           NaN   \n",
       "\n",
       "                               remaining_battery_charge(mAh)  \\\n",
       "voltage(V)                                          0.964408   \n",
       "current(mA)                                        -0.939750   \n",
       "power(W)                                           -0.921439   \n",
       "battery_percent                                     0.999553   \n",
       "battery_temperature(Celsius)                       -0.812513   \n",
       "remaining_battery_charge(mAh)                       1.000000   \n",
       "battery_capacity(mAh)                                    NaN   \n",
       "\n",
       "                               battery_capacity(mAh)  \n",
       "voltage(V)                                       NaN  \n",
       "current(mA)                                      NaN  \n",
       "power(W)                                         NaN  \n",
       "battery_percent                                  NaN  \n",
       "battery_temperature(Celsius)                     NaN  \n",
       "remaining_battery_charge(mAh)                    NaN  \n",
       "battery_capacity(mAh)                            NaN  "
      ]
     },
     "execution_count": 137,
     "metadata": {},
     "output_type": "execute_result"
    }
   ],
   "source": [
    "pixel6a.corr()"
   ]
  },
  {
   "cell_type": "code",
   "execution_count": 138,
   "metadata": {},
   "outputs": [
    {
     "data": {
      "text/html": [
       "<div>\n",
       "<style scoped>\n",
       "    .dataframe tbody tr th:only-of-type {\n",
       "        vertical-align: middle;\n",
       "    }\n",
       "\n",
       "    .dataframe tbody tr th {\n",
       "        vertical-align: top;\n",
       "    }\n",
       "\n",
       "    .dataframe thead th {\n",
       "        text-align: right;\n",
       "    }\n",
       "</style>\n",
       "<table border=\"1\" class=\"dataframe\">\n",
       "  <thead>\n",
       "    <tr style=\"text-align: right;\">\n",
       "      <th></th>\n",
       "      <th>voltage(V)</th>\n",
       "      <th>current(mA)</th>\n",
       "      <th>power(W)</th>\n",
       "      <th>battery_percent</th>\n",
       "      <th>battery_temperature(Celsius)</th>\n",
       "      <th>remaining_battery_charge(mAh)</th>\n",
       "      <th>battery_capacity(mAh)</th>\n",
       "    </tr>\n",
       "  </thead>\n",
       "  <tbody>\n",
       "    <tr>\n",
       "      <th>voltage(V)</th>\n",
       "      <td>1.000000</td>\n",
       "      <td>0.088772</td>\n",
       "      <td>0.143112</td>\n",
       "      <td>0.796245</td>\n",
       "      <td>0.622724</td>\n",
       "      <td>0.794243</td>\n",
       "      <td>NaN</td>\n",
       "    </tr>\n",
       "    <tr>\n",
       "      <th>current(mA)</th>\n",
       "      <td>0.088772</td>\n",
       "      <td>1.000000</td>\n",
       "      <td>0.998250</td>\n",
       "      <td>-0.492034</td>\n",
       "      <td>0.179417</td>\n",
       "      <td>-0.497655</td>\n",
       "      <td>NaN</td>\n",
       "    </tr>\n",
       "    <tr>\n",
       "      <th>power(W)</th>\n",
       "      <td>0.143112</td>\n",
       "      <td>0.998250</td>\n",
       "      <td>1.000000</td>\n",
       "      <td>-0.442711</td>\n",
       "      <td>0.222917</td>\n",
       "      <td>-0.448636</td>\n",
       "      <td>NaN</td>\n",
       "    </tr>\n",
       "    <tr>\n",
       "      <th>battery_percent</th>\n",
       "      <td>0.796245</td>\n",
       "      <td>-0.492034</td>\n",
       "      <td>-0.442711</td>\n",
       "      <td>1.000000</td>\n",
       "      <td>0.547542</td>\n",
       "      <td>0.999432</td>\n",
       "      <td>NaN</td>\n",
       "    </tr>\n",
       "    <tr>\n",
       "      <th>battery_temperature(Celsius)</th>\n",
       "      <td>0.622724</td>\n",
       "      <td>0.179417</td>\n",
       "      <td>0.222917</td>\n",
       "      <td>0.547542</td>\n",
       "      <td>1.000000</td>\n",
       "      <td>0.532167</td>\n",
       "      <td>NaN</td>\n",
       "    </tr>\n",
       "    <tr>\n",
       "      <th>remaining_battery_charge(mAh)</th>\n",
       "      <td>0.794243</td>\n",
       "      <td>-0.497655</td>\n",
       "      <td>-0.448636</td>\n",
       "      <td>0.999432</td>\n",
       "      <td>0.532167</td>\n",
       "      <td>1.000000</td>\n",
       "      <td>NaN</td>\n",
       "    </tr>\n",
       "    <tr>\n",
       "      <th>battery_capacity(mAh)</th>\n",
       "      <td>NaN</td>\n",
       "      <td>NaN</td>\n",
       "      <td>NaN</td>\n",
       "      <td>NaN</td>\n",
       "      <td>NaN</td>\n",
       "      <td>NaN</td>\n",
       "      <td>NaN</td>\n",
       "    </tr>\n",
       "  </tbody>\n",
       "</table>\n",
       "</div>"
      ],
      "text/plain": [
       "                               voltage(V)  current(mA)  power(W)  \\\n",
       "voltage(V)                       1.000000     0.088772  0.143112   \n",
       "current(mA)                      0.088772     1.000000  0.998250   \n",
       "power(W)                         0.143112     0.998250  1.000000   \n",
       "battery_percent                  0.796245    -0.492034 -0.442711   \n",
       "battery_temperature(Celsius)     0.622724     0.179417  0.222917   \n",
       "remaining_battery_charge(mAh)    0.794243    -0.497655 -0.448636   \n",
       "battery_capacity(mAh)                 NaN          NaN       NaN   \n",
       "\n",
       "                               battery_percent  battery_temperature(Celsius)  \\\n",
       "voltage(V)                            0.796245                      0.622724   \n",
       "current(mA)                          -0.492034                      0.179417   \n",
       "power(W)                             -0.442711                      0.222917   \n",
       "battery_percent                       1.000000                      0.547542   \n",
       "battery_temperature(Celsius)          0.547542                      1.000000   \n",
       "remaining_battery_charge(mAh)         0.999432                      0.532167   \n",
       "battery_capacity(mAh)                      NaN                           NaN   \n",
       "\n",
       "                               remaining_battery_charge(mAh)  \\\n",
       "voltage(V)                                          0.794243   \n",
       "current(mA)                                        -0.497655   \n",
       "power(W)                                           -0.448636   \n",
       "battery_percent                                     0.999432   \n",
       "battery_temperature(Celsius)                        0.532167   \n",
       "remaining_battery_charge(mAh)                       1.000000   \n",
       "battery_capacity(mAh)                                    NaN   \n",
       "\n",
       "                               battery_capacity(mAh)  \n",
       "voltage(V)                                       NaN  \n",
       "current(mA)                                      NaN  \n",
       "power(W)                                         NaN  \n",
       "battery_percent                                  NaN  \n",
       "battery_temperature(Celsius)                     NaN  \n",
       "remaining_battery_charge(mAh)                    NaN  \n",
       "battery_capacity(mAh)                            NaN  "
      ]
     },
     "execution_count": 138,
     "metadata": {},
     "output_type": "execute_result"
    }
   ],
   "source": [
    "a70.corr()"
   ]
  },
  {
   "cell_type": "code",
   "execution_count": 139,
   "metadata": {},
   "outputs": [
    {
     "data": {
      "text/html": [
       "<div>\n",
       "<style scoped>\n",
       "    .dataframe tbody tr th:only-of-type {\n",
       "        vertical-align: middle;\n",
       "    }\n",
       "\n",
       "    .dataframe tbody tr th {\n",
       "        vertical-align: top;\n",
       "    }\n",
       "\n",
       "    .dataframe thead th {\n",
       "        text-align: right;\n",
       "    }\n",
       "</style>\n",
       "<table border=\"1\" class=\"dataframe\">\n",
       "  <thead>\n",
       "    <tr style=\"text-align: right;\">\n",
       "      <th></th>\n",
       "      <th>voltage(V)</th>\n",
       "      <th>current(mA)</th>\n",
       "      <th>power(W)</th>\n",
       "      <th>battery_percent</th>\n",
       "      <th>battery_temperature(Celsius)</th>\n",
       "      <th>remaining_battery_charge(mAh)</th>\n",
       "      <th>battery_capacity(mAh)</th>\n",
       "    </tr>\n",
       "  </thead>\n",
       "  <tbody>\n",
       "    <tr>\n",
       "      <th>voltage(V)</th>\n",
       "      <td>1.000000</td>\n",
       "      <td>-0.387511</td>\n",
       "      <td>-0.311557</td>\n",
       "      <td>0.926127</td>\n",
       "      <td>-0.432842</td>\n",
       "      <td>0.926291</td>\n",
       "      <td>NaN</td>\n",
       "    </tr>\n",
       "    <tr>\n",
       "      <th>current(mA)</th>\n",
       "      <td>-0.387511</td>\n",
       "      <td>1.000000</td>\n",
       "      <td>0.995779</td>\n",
       "      <td>-0.635516</td>\n",
       "      <td>0.411069</td>\n",
       "      <td>-0.636134</td>\n",
       "      <td>NaN</td>\n",
       "    </tr>\n",
       "    <tr>\n",
       "      <th>power(W)</th>\n",
       "      <td>-0.311557</td>\n",
       "      <td>0.995779</td>\n",
       "      <td>1.000000</td>\n",
       "      <td>-0.569778</td>\n",
       "      <td>0.407685</td>\n",
       "      <td>-0.570358</td>\n",
       "      <td>NaN</td>\n",
       "    </tr>\n",
       "    <tr>\n",
       "      <th>battery_percent</th>\n",
       "      <td>0.926127</td>\n",
       "      <td>-0.635516</td>\n",
       "      <td>-0.569778</td>\n",
       "      <td>1.000000</td>\n",
       "      <td>-0.467203</td>\n",
       "      <td>0.999941</td>\n",
       "      <td>NaN</td>\n",
       "    </tr>\n",
       "    <tr>\n",
       "      <th>battery_temperature(Celsius)</th>\n",
       "      <td>-0.432842</td>\n",
       "      <td>0.411069</td>\n",
       "      <td>0.407685</td>\n",
       "      <td>-0.467203</td>\n",
       "      <td>1.000000</td>\n",
       "      <td>-0.465893</td>\n",
       "      <td>NaN</td>\n",
       "    </tr>\n",
       "    <tr>\n",
       "      <th>remaining_battery_charge(mAh)</th>\n",
       "      <td>0.926291</td>\n",
       "      <td>-0.636134</td>\n",
       "      <td>-0.570358</td>\n",
       "      <td>0.999941</td>\n",
       "      <td>-0.465893</td>\n",
       "      <td>1.000000</td>\n",
       "      <td>NaN</td>\n",
       "    </tr>\n",
       "    <tr>\n",
       "      <th>battery_capacity(mAh)</th>\n",
       "      <td>NaN</td>\n",
       "      <td>NaN</td>\n",
       "      <td>NaN</td>\n",
       "      <td>NaN</td>\n",
       "      <td>NaN</td>\n",
       "      <td>NaN</td>\n",
       "      <td>NaN</td>\n",
       "    </tr>\n",
       "  </tbody>\n",
       "</table>\n",
       "</div>"
      ],
      "text/plain": [
       "                               voltage(V)  current(mA)  power(W)  \\\n",
       "voltage(V)                       1.000000    -0.387511 -0.311557   \n",
       "current(mA)                     -0.387511     1.000000  0.995779   \n",
       "power(W)                        -0.311557     0.995779  1.000000   \n",
       "battery_percent                  0.926127    -0.635516 -0.569778   \n",
       "battery_temperature(Celsius)    -0.432842     0.411069  0.407685   \n",
       "remaining_battery_charge(mAh)    0.926291    -0.636134 -0.570358   \n",
       "battery_capacity(mAh)                 NaN          NaN       NaN   \n",
       "\n",
       "                               battery_percent  battery_temperature(Celsius)  \\\n",
       "voltage(V)                            0.926127                     -0.432842   \n",
       "current(mA)                          -0.635516                      0.411069   \n",
       "power(W)                             -0.569778                      0.407685   \n",
       "battery_percent                       1.000000                     -0.467203   \n",
       "battery_temperature(Celsius)         -0.467203                      1.000000   \n",
       "remaining_battery_charge(mAh)         0.999941                     -0.465893   \n",
       "battery_capacity(mAh)                      NaN                           NaN   \n",
       "\n",
       "                               remaining_battery_charge(mAh)  \\\n",
       "voltage(V)                                          0.926291   \n",
       "current(mA)                                        -0.636134   \n",
       "power(W)                                           -0.570358   \n",
       "battery_percent                                     0.999941   \n",
       "battery_temperature(Celsius)                       -0.465893   \n",
       "remaining_battery_charge(mAh)                       1.000000   \n",
       "battery_capacity(mAh)                                    NaN   \n",
       "\n",
       "                               battery_capacity(mAh)  \n",
       "voltage(V)                                       NaN  \n",
       "current(mA)                                      NaN  \n",
       "power(W)                                         NaN  \n",
       "battery_percent                                  NaN  \n",
       "battery_temperature(Celsius)                     NaN  \n",
       "remaining_battery_charge(mAh)                    NaN  \n",
       "battery_capacity(mAh)                            NaN  "
      ]
     },
     "execution_count": 139,
     "metadata": {},
     "output_type": "execute_result"
    }
   ],
   "source": [
    "s21fe.corr()"
   ]
  }
 ],
 "metadata": {
  "kernelspec": {
   "display_name": "Python 3",
   "language": "python",
   "name": "python3"
  },
  "language_info": {
   "codemirror_mode": {
    "name": "ipython",
    "version": 3
   },
   "file_extension": ".py",
   "mimetype": "text/x-python",
   "name": "python",
   "nbconvert_exporter": "python",
   "pygments_lexer": "ipython3",
   "version": "3.10.6"
  },
  "orig_nbformat": 4
 },
 "nbformat": 4,
 "nbformat_minor": 2
}
